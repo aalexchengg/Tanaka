{
 "cells": [
  {
   "cell_type": "markdown",
   "id": "055a77fa-5a56-4b16-a028-a6e180fb3e85",
   "metadata": {},
   "source": [
    "# Report on Google Ads and its Effectiveness"
   ]
  },
  {
   "cell_type": "code",
   "execution_count": 1,
   "id": "e7882695-8edb-410f-99fc-71ff57a680aa",
   "metadata": {},
   "outputs": [],
   "source": [
    "import pandas as pd\n",
    "import sys\n",
    "import os\n",
    "import parquet as pq\n",
    "import seaborn as sns\n",
    "import numpy as np\n",
    "import matplotlib.patches as mpatches\n",
    "import matplotlib.pyplot as plt\n",
    "import scipy.stats as st"
   ]
  },
  {
   "cell_type": "code",
   "execution_count": 2,
   "id": "d1ea560e-1794-4a4b-bc42-e357eade2921",
   "metadata": {},
   "outputs": [],
   "source": [
    "ytdf = pd.read_csv(\"data\\yt_totals_locs.csv\")\n",
    "scdf = pd.read_csv(\"data\\santa_clara_allday.csv\")"
   ]
  },
  {
   "cell_type": "markdown",
   "id": "90ded873-137c-4480-af65-285d0e3c305d",
   "metadata": {},
   "source": [
    "## Exploratory Data Analysis"
   ]
  },
  {
   "cell_type": "markdown",
   "id": "290cb63e-cb24-4eb3-91b4-e1d18e11e77b",
   "metadata": {},
   "source": [
    "### Youtube Data"
   ]
  },
  {
   "cell_type": "code",
   "execution_count": 3,
   "id": "93f0212b-24b6-4659-85c9-7845c51d5b2c",
   "metadata": {},
   "outputs": [
    {
     "data": {
      "text/plain": [
       "Index(['Campaign', 'Campaign bid strategy type', 'Campaign apps: active',\n",
       "       'City (Geographic)', 'Currency code', 'Clicks', 'Impr.', 'CTR',\n",
       "       'Avg. CPC', 'Cost', 'Impr. (Abs. Top) %', 'Impr. (Top) %',\n",
       "       'Conversions', 'View-through conv.', 'Cost / conv.', 'Conv. rate'],\n",
       "      dtype='object')"
      ]
     },
     "execution_count": 3,
     "metadata": {},
     "output_type": "execute_result"
    }
   ],
   "source": [
    "ytdf.columns"
   ]
  },
  {
   "cell_type": "markdown",
   "id": "d3b8922c-73fd-4114-ba45-f46391bca8fa",
   "metadata": {},
   "source": [
    "As one can see, we divided the ads into two main categories: the campaign it belonged to (e.g. Crypto Campaign #6), and the city it was set in (e.g. Menlo Park). From there, we have a variety of metrics that we can use as our KPIs."
   ]
  },
  {
   "cell_type": "code",
   "execution_count": 4,
   "id": "c1748462-305a-4e60-9dc8-e535791d83bc",
   "metadata": {},
   "outputs": [
    {
     "data": {
      "text/html": [
       "<div>\n",
       "<style scoped>\n",
       "    .dataframe tbody tr th:only-of-type {\n",
       "        vertical-align: middle;\n",
       "    }\n",
       "\n",
       "    .dataframe tbody tr th {\n",
       "        vertical-align: top;\n",
       "    }\n",
       "\n",
       "    .dataframe thead th {\n",
       "        text-align: right;\n",
       "    }\n",
       "</style>\n",
       "<table border=\"1\" class=\"dataframe\">\n",
       "  <thead>\n",
       "    <tr style=\"text-align: right;\">\n",
       "      <th></th>\n",
       "      <th>Campaign</th>\n",
       "      <th>Campaign bid strategy type</th>\n",
       "      <th>Campaign apps: active</th>\n",
       "      <th>City (Geographic)</th>\n",
       "      <th>Currency code</th>\n",
       "      <th>Clicks</th>\n",
       "      <th>Impr.</th>\n",
       "      <th>CTR</th>\n",
       "      <th>Avg. CPC</th>\n",
       "      <th>Cost</th>\n",
       "      <th>Impr. (Abs. Top) %</th>\n",
       "      <th>Impr. (Top) %</th>\n",
       "      <th>Conversions</th>\n",
       "      <th>View-through conv.</th>\n",
       "      <th>Cost / conv.</th>\n",
       "      <th>Conv. rate</th>\n",
       "    </tr>\n",
       "  </thead>\n",
       "  <tbody>\n",
       "    <tr>\n",
       "      <th>0</th>\n",
       "      <td>DAO Event Ad</td>\n",
       "      <td>Maximize clicks</td>\n",
       "      <td>0</td>\n",
       "      <td>Mountain View</td>\n",
       "      <td>USD</td>\n",
       "      <td>0</td>\n",
       "      <td>1</td>\n",
       "      <td>0.00%</td>\n",
       "      <td>--</td>\n",
       "      <td>0.00</td>\n",
       "      <td>100.00%</td>\n",
       "      <td>100.00%</td>\n",
       "      <td>0.0</td>\n",
       "      <td>0</td>\n",
       "      <td>--</td>\n",
       "      <td>0</td>\n",
       "    </tr>\n",
       "    <tr>\n",
       "      <th>1</th>\n",
       "      <td>DAO Event Ad</td>\n",
       "      <td>Maximize clicks</td>\n",
       "      <td>0</td>\n",
       "      <td>Campbell</td>\n",
       "      <td>USD</td>\n",
       "      <td>0</td>\n",
       "      <td>1</td>\n",
       "      <td>0.00%</td>\n",
       "      <td>--</td>\n",
       "      <td>0.00</td>\n",
       "      <td>0.00%</td>\n",
       "      <td>100.00%</td>\n",
       "      <td>0.0</td>\n",
       "      <td>0</td>\n",
       "      <td>--</td>\n",
       "      <td>0</td>\n",
       "    </tr>\n",
       "    <tr>\n",
       "      <th>2</th>\n",
       "      <td>Campaign Policy Ads</td>\n",
       "      <td>Maximize clicks</td>\n",
       "      <td>0</td>\n",
       "      <td>Portola Valley</td>\n",
       "      <td>USD</td>\n",
       "      <td>12</td>\n",
       "      <td>144</td>\n",
       "      <td>8.33%</td>\n",
       "      <td>3.31</td>\n",
       "      <td>39.73</td>\n",
       "      <td>44.83%</td>\n",
       "      <td>71.26%</td>\n",
       "      <td>0.0</td>\n",
       "      <td>0</td>\n",
       "      <td>--</td>\n",
       "      <td>0.00%</td>\n",
       "    </tr>\n",
       "    <tr>\n",
       "      <th>3</th>\n",
       "      <td>Campaign Policy Ads</td>\n",
       "      <td>Maximize clicks</td>\n",
       "      <td>0</td>\n",
       "      <td>Mission Viejo</td>\n",
       "      <td>USD</td>\n",
       "      <td>1</td>\n",
       "      <td>136</td>\n",
       "      <td>0.74%</td>\n",
       "      <td>3.56</td>\n",
       "      <td>3.56</td>\n",
       "      <td>44.83%</td>\n",
       "      <td>82.76%</td>\n",
       "      <td>0.0</td>\n",
       "      <td>0</td>\n",
       "      <td>--</td>\n",
       "      <td>0.00%</td>\n",
       "    </tr>\n",
       "    <tr>\n",
       "      <th>4</th>\n",
       "      <td>DAO Event Ad</td>\n",
       "      <td>Maximize clicks</td>\n",
       "      <td>0</td>\n",
       "      <td>Los Gatos</td>\n",
       "      <td>USD</td>\n",
       "      <td>0</td>\n",
       "      <td>1</td>\n",
       "      <td>0.00%</td>\n",
       "      <td>--</td>\n",
       "      <td>0.00</td>\n",
       "      <td>0</td>\n",
       "      <td>0</td>\n",
       "      <td>0.0</td>\n",
       "      <td>0</td>\n",
       "      <td>--</td>\n",
       "      <td>0</td>\n",
       "    </tr>\n",
       "  </tbody>\n",
       "</table>\n",
       "</div>"
      ],
      "text/plain": [
       "              Campaign Campaign bid strategy type  Campaign apps: active  \\\n",
       "0         DAO Event Ad            Maximize clicks                      0   \n",
       "1         DAO Event Ad            Maximize clicks                      0   \n",
       "2  Campaign Policy Ads            Maximize clicks                      0   \n",
       "3  Campaign Policy Ads            Maximize clicks                      0   \n",
       "4         DAO Event Ad            Maximize clicks                      0   \n",
       "\n",
       "  City (Geographic) Currency code Clicks Impr.    CTR Avg. CPC   Cost  \\\n",
       "0     Mountain View           USD      0     1  0.00%       --   0.00   \n",
       "1          Campbell           USD      0     1  0.00%       --   0.00   \n",
       "2    Portola Valley           USD     12   144  8.33%     3.31  39.73   \n",
       "3     Mission Viejo           USD      1   136  0.74%     3.56   3.56   \n",
       "4         Los Gatos           USD      0     1  0.00%       --   0.00   \n",
       "\n",
       "  Impr. (Abs. Top) % Impr. (Top) %  Conversions  View-through conv.  \\\n",
       "0            100.00%       100.00%          0.0                   0   \n",
       "1              0.00%       100.00%          0.0                   0   \n",
       "2             44.83%        71.26%          0.0                   0   \n",
       "3             44.83%        82.76%          0.0                   0   \n",
       "4                  0             0          0.0                   0   \n",
       "\n",
       "  Cost / conv. Conv. rate  \n",
       "0           --          0  \n",
       "1           --          0  \n",
       "2           --      0.00%  \n",
       "3           --      0.00%  \n",
       "4           --          0  "
      ]
     },
     "execution_count": 4,
     "metadata": {},
     "output_type": "execute_result"
    }
   ],
   "source": [
    "ytdf.head()"
   ]
  },
  {
   "cell_type": "markdown",
   "id": "86574fdf-186a-40bc-a866-f7cac4e79591",
   "metadata": {},
   "source": [
    "Here you can see a quick glimpse of what the table looks like, with the same campaign having multiple rows of data due to it being exposed to multiple cities. Since cities have varying populations, it would not make a lot of sense to compare their raw impressions and other metrics, but we can see what our costs add up to. "
   ]
  },
  {
   "cell_type": "code",
   "execution_count": 5,
   "id": "27782770-625d-4b1e-a0c3-aafc83fb48b3",
   "metadata": {},
   "outputs": [
    {
     "data": {
      "image/png": "[encoded data removed]",
      "text/plain": [
       "<Figure size 432x288 with 1 Axes>"
      ]
     },
     "metadata": {
      "needs_background": "light"
     },
     "output_type": "display_data"
    }
   ],
   "source": [
    "ytdf.replace(\" --\", np.nan)\n",
    "ytdf['Avg. CPC'] = pd.to_numeric(ytdf['Avg. CPC'], errors='coerce')\n",
    "\n",
    "fig, ax = plt.subplots()\n",
    "ax = sns.histplot(data = ytdf, y = \"Avg. CPC\")"
   ]
  },
  {
   "cell_type": "markdown",
   "id": "b57a2790-8abc-46fa-b210-10881030f7d9",
   "metadata": {},
   "source": [
    "The histogram is extremely skewed right, which indicates that a good majority of our ads fall under a certain threshold, and once that threshold was passed we just gave up on it. "
   ]
  },
  {
   "cell_type": "markdown",
   "id": "9691f0d9-6a99-466f-b943-f80c601b6fa3",
   "metadata": {},
   "source": [
    "Let's now look at the voter data.\n",
    "### Voter Data"
   ]
  },
  {
   "cell_type": "code",
   "execution_count": 6,
   "id": "c5484a89-1bf7-4f57-916a-404f1f671fb5",
   "metadata": {},
   "outputs": [
    {
     "data": {
      "text/html": [
       "<div>\n",
       "<style scoped>\n",
       "    .dataframe tbody tr th:only-of-type {\n",
       "        vertical-align: middle;\n",
       "    }\n",
       "\n",
       "    .dataframe tbody tr th {\n",
       "        vertical-align: top;\n",
       "    }\n",
       "\n",
       "    .dataframe thead th {\n",
       "        text-align: right;\n",
       "    }\n",
       "</style>\n",
       "<table border=\"1\" class=\"dataframe\">\n",
       "  <thead>\n",
       "    <tr style=\"text-align: right;\">\n",
       "      <th></th>\n",
       "      <th>Date</th>\n",
       "      <th>County</th>\n",
       "      <th>ANNA G. ESHOO</th>\n",
       "      <th>RISHI KUMAR</th>\n",
       "      <th>PETER OHTAKI</th>\n",
       "      <th>RICHARD B. FOX</th>\n",
       "      <th>GREG LIN TANAKA</th>\n",
       "      <th>AJWANG RADING</th>\n",
       "      <th>BENJAMIN THOMAS SOLOMON</th>\n",
       "      <th>JOHN KARL FREDRICH</th>\n",
       "      <th>Registered Voters</th>\n",
       "      <th>Total</th>\n",
       "      <th>Voter Turnout</th>\n",
       "    </tr>\n",
       "  </thead>\n",
       "  <tbody>\n",
       "    <tr>\n",
       "      <th>992</th>\n",
       "      <td>6/13/2022</td>\n",
       "      <td>2002</td>\n",
       "      <td>528</td>\n",
       "      <td>97</td>\n",
       "      <td>64</td>\n",
       "      <td>46</td>\n",
       "      <td>66</td>\n",
       "      <td>143</td>\n",
       "      <td>11</td>\n",
       "      <td>10</td>\n",
       "      <td>2603</td>\n",
       "      <td>965</td>\n",
       "      <td>37%</td>\n",
       "    </tr>\n",
       "    <tr>\n",
       "      <th>993</th>\n",
       "      <td>6/13/2022</td>\n",
       "      <td>2005</td>\n",
       "      <td>255</td>\n",
       "      <td>48</td>\n",
       "      <td>30</td>\n",
       "      <td>12</td>\n",
       "      <td>83</td>\n",
       "      <td>108</td>\n",
       "      <td>1</td>\n",
       "      <td>6</td>\n",
       "      <td>1423</td>\n",
       "      <td>543</td>\n",
       "      <td>38%</td>\n",
       "    </tr>\n",
       "    <tr>\n",
       "      <th>994</th>\n",
       "      <td>6/13/2022</td>\n",
       "      <td>2006</td>\n",
       "      <td>307</td>\n",
       "      <td>78</td>\n",
       "      <td>82</td>\n",
       "      <td>30</td>\n",
       "      <td>92</td>\n",
       "      <td>63</td>\n",
       "      <td>14</td>\n",
       "      <td>13</td>\n",
       "      <td>1886</td>\n",
       "      <td>679</td>\n",
       "      <td>36%</td>\n",
       "    </tr>\n",
       "    <tr>\n",
       "      <th>995</th>\n",
       "      <td>6/13/2022</td>\n",
       "      <td>2009</td>\n",
       "      <td>503</td>\n",
       "      <td>137</td>\n",
       "      <td>74</td>\n",
       "      <td>40</td>\n",
       "      <td>127</td>\n",
       "      <td>99</td>\n",
       "      <td>8</td>\n",
       "      <td>23</td>\n",
       "      <td>2959</td>\n",
       "      <td>1011</td>\n",
       "      <td>34%</td>\n",
       "    </tr>\n",
       "    <tr>\n",
       "      <th>996</th>\n",
       "      <td>6/13/2022</td>\n",
       "      <td>2013</td>\n",
       "      <td>488</td>\n",
       "      <td>86</td>\n",
       "      <td>84</td>\n",
       "      <td>45</td>\n",
       "      <td>136</td>\n",
       "      <td>86</td>\n",
       "      <td>5</td>\n",
       "      <td>7</td>\n",
       "      <td>2240</td>\n",
       "      <td>937</td>\n",
       "      <td>42%</td>\n",
       "    </tr>\n",
       "  </tbody>\n",
       "</table>\n",
       "</div>"
      ],
      "text/plain": [
       "          Date  County  ANNA G. ESHOO  RISHI KUMAR  PETER OHTAKI  \\\n",
       "992  6/13/2022    2002            528           97            64   \n",
       "993  6/13/2022    2005            255           48            30   \n",
       "994  6/13/2022    2006            307           78            82   \n",
       "995  6/13/2022    2009            503          137            74   \n",
       "996  6/13/2022    2013            488           86            84   \n",
       "\n",
       "     RICHARD B. FOX  GREG LIN TANAKA  AJWANG RADING  BENJAMIN THOMAS SOLOMON  \\\n",
       "992              46               66            143                       11   \n",
       "993              12               83            108                        1   \n",
       "994              30               92             63                       14   \n",
       "995              40              127             99                        8   \n",
       "996              45              136             86                        5   \n",
       "\n",
       "     JOHN KARL FREDRICH  Registered Voters  Total Voter Turnout  \n",
       "992                  10               2603    965           37%  \n",
       "993                   6               1423    543           38%  \n",
       "994                  13               1886    679           36%  \n",
       "995                  23               2959   1011           34%  \n",
       "996                   7               2240    937           42%  "
      ]
     },
     "execution_count": 6,
     "metadata": {},
     "output_type": "execute_result"
    }
   ],
   "source": [
    "scdf = scdf.iloc[992:1191]\n",
    "scdf.head()"
   ]
  },
  {
   "cell_type": "code",
   "execution_count": 7,
   "id": "91a396d0-4a96-462d-a39e-1e7e90e17ba2",
   "metadata": {},
   "outputs": [
    {
     "name": "stdout",
     "output_type": "stream",
     "text": [
      "<class 'pandas.core.frame.DataFrame'>\n",
      "RangeIndex: 198 entries, 992 to 1189\n",
      "Data columns (total 13 columns):\n",
      " #   Column                   Non-Null Count  Dtype \n",
      "---  ------                   --------------  ----- \n",
      " 0   Date                     198 non-null    object\n",
      " 1   County                   198 non-null    int64 \n",
      " 2   ANNA G. ESHOO            198 non-null    int64 \n",
      " 3   RISHI KUMAR              198 non-null    int64 \n",
      " 4   PETER OHTAKI             198 non-null    int64 \n",
      " 5   RICHARD B. FOX           198 non-null    int64 \n",
      " 6   GREG LIN TANAKA          198 non-null    int64 \n",
      " 7   AJWANG RADING            198 non-null    int64 \n",
      " 8   BENJAMIN THOMAS SOLOMON  198 non-null    int64 \n",
      " 9   JOHN KARL FREDRICH       198 non-null    int64 \n",
      " 10  Registered Voters        198 non-null    int64 \n",
      " 11  Total                    198 non-null    int64 \n",
      " 12  Voter Turnout            198 non-null    object\n",
      "dtypes: int64(11), object(2)\n",
      "memory usage: 20.2+ KB\n"
     ]
    }
   ],
   "source": [
    "scdf.info()"
   ]
  },
  {
   "cell_type": "markdown",
   "id": "ba0c02be-b5ff-4bf5-8a4c-cf20dd47f34c",
   "metadata": {},
   "source": [
    "The data essentially has each voting precinct's vote counts, the number of registered voters, and from that the total turnout. However, sometimes voter turnout is over 100%, which interferes with the data on the precinct level.\n",
    "Lucky for us, we don't care about the precinct level, and unlucky for us, neither does Youtube.\n",
    "From the site here: https://rovservices.sccgov.org/Home/IndexPost?selected=pm&nav=vc#, we link up the counties with their respective cities and sum up the data so that we can compare it to the YouTube Data."
   ]
  },
  {
   "cell_type": "markdown",
   "id": "e7f8929d-7445-43e1-81eb-15c053152e8a",
   "metadata": {},
   "source": [
    "## Merging Data"
   ]
  },
  {
   "cell_type": "markdown",
   "id": "9a5ac704-0f2e-4b5e-9e52-7cee25b0aa60",
   "metadata": {},
   "source": [
    "We will first create a new DataFrame to combine the two DataFrames together. "
   ]
  },
  {
   "cell_type": "markdown",
   "id": "cbc76399-ad84-471c-87d8-e83d1dea5283",
   "metadata": {},
   "source": [
    "List of cities is sourced from the same link above for list of Santa Clara County cities, and filtered by cities listed in https://www.gregtanaka.org"
   ]
  },
  {
   "cell_type": "code",
   "execution_count": 8,
   "id": "01109c8a-da06-4009-a702-22c71488d59a",
   "metadata": {},
   "outputs": [],
   "source": [
    "intervals = [2000,2200, 2300, 2500, 2700, 2800, 3400, 3700, 3800, 4600,5000, 6000, 7000, np.inf]\n",
    "cities = ['Palo Alto', 'Los Altos Hills', 'Los Altos', 'Stanford', 'Los Gatos', 'Los Altos', 'Mountain View', 'Monte Sereno', 'Campbell','Saratoga','San Jose', 'Saratoga', 'San Jose' ]\n",
    "scdf['City'] = pd.cut(scdf['County'], intervals, labels = cities, right = False, ordered = False )\n",
    "scdf = scdf.groupby(\"City\").sum()\n",
    "scdf = scdf.reset_index(level=0)"
   ]
  },
  {
   "cell_type": "code",
   "execution_count": 9,
   "id": "852bf4a6-9304-4fbe-af4c-aa52dbaa8f85",
   "metadata": {},
   "outputs": [],
   "source": [
    "valid = '1234567890.' #valid characters for a float\n",
    "def sanitize(data):\n",
    "    return float(''.join(filter(lambda char: char in valid, data)))\n",
    "\n",
    "\n",
    "ytdf['Impr.'] = ytdf['Impr.'].apply(sanitize)\n",
    "#ytdf['Impr.'] = pd.to_numeric(ytdf['Impr.'], errors='coerce')\n",
    "\n",
    "ytdf['Clicks'] = ytdf['Clicks'].apply(sanitize)\n",
    "#ytdf['Clicks'] = pd.to_numeric(ytdf['Clicks'], errors='coerce')\n",
    "\n",
    "ytdf = ytdf.groupby(\"City (Geographic)\").sum()\n",
    "ytdf = ytdf.reset_index(level=0)"
   ]
  },
  {
   "cell_type": "markdown",
   "id": "e8f864b0-8a8b-4764-93eb-86d1d570c434",
   "metadata": {},
   "source": [
    "Let's see how our transformed data looks like now that we've grouped by city."
   ]
  },
  {
   "cell_type": "code",
   "execution_count": 10,
   "id": "c4889df9-48ae-4ff9-9d40-2724b4ba3d64",
   "metadata": {},
   "outputs": [
    {
     "data": {
      "text/html": [
       "<div>\n",
       "<style scoped>\n",
       "    .dataframe tbody tr th:only-of-type {\n",
       "        vertical-align: middle;\n",
       "    }\n",
       "\n",
       "    .dataframe tbody tr th {\n",
       "        vertical-align: top;\n",
       "    }\n",
       "\n",
       "    .dataframe thead th {\n",
       "        text-align: right;\n",
       "    }\n",
       "</style>\n",
       "<table border=\"1\" class=\"dataframe\">\n",
       "  <thead>\n",
       "    <tr style=\"text-align: right;\">\n",
       "      <th></th>\n",
       "      <th>City (Geographic)</th>\n",
       "      <th>Campaign apps: active</th>\n",
       "      <th>Clicks</th>\n",
       "      <th>Impr.</th>\n",
       "      <th>Avg. CPC</th>\n",
       "      <th>Cost</th>\n",
       "      <th>Conversions</th>\n",
       "      <th>View-through conv.</th>\n",
       "    </tr>\n",
       "  </thead>\n",
       "  <tbody>\n",
       "    <tr>\n",
       "      <th>0</th>\n",
       "      <td>Aberdeen</td>\n",
       "      <td>0</td>\n",
       "      <td>0.0</td>\n",
       "      <td>2.0</td>\n",
       "      <td>0.00</td>\n",
       "      <td>0.00</td>\n",
       "      <td>0.0</td>\n",
       "      <td>0</td>\n",
       "    </tr>\n",
       "    <tr>\n",
       "      <th>1</th>\n",
       "      <td>Abilene</td>\n",
       "      <td>0</td>\n",
       "      <td>0.0</td>\n",
       "      <td>1.0</td>\n",
       "      <td>0.00</td>\n",
       "      <td>0.00</td>\n",
       "      <td>0.0</td>\n",
       "      <td>0</td>\n",
       "    </tr>\n",
       "    <tr>\n",
       "      <th>2</th>\n",
       "      <td>Abington</td>\n",
       "      <td>0</td>\n",
       "      <td>1.0</td>\n",
       "      <td>1.0</td>\n",
       "      <td>1.06</td>\n",
       "      <td>1.06</td>\n",
       "      <td>1.0</td>\n",
       "      <td>0</td>\n",
       "    </tr>\n",
       "    <tr>\n",
       "      <th>3</th>\n",
       "      <td>Acworth</td>\n",
       "      <td>0</td>\n",
       "      <td>0.0</td>\n",
       "      <td>1.0</td>\n",
       "      <td>0.00</td>\n",
       "      <td>0.00</td>\n",
       "      <td>0.0</td>\n",
       "      <td>0</td>\n",
       "    </tr>\n",
       "    <tr>\n",
       "      <th>4</th>\n",
       "      <td>Aiea</td>\n",
       "      <td>0</td>\n",
       "      <td>0.0</td>\n",
       "      <td>1.0</td>\n",
       "      <td>0.00</td>\n",
       "      <td>0.00</td>\n",
       "      <td>0.0</td>\n",
       "      <td>0</td>\n",
       "    </tr>\n",
       "  </tbody>\n",
       "</table>\n",
       "</div>"
      ],
      "text/plain": [
       "  City (Geographic)  Campaign apps: active  Clicks  Impr.  Avg. CPC  Cost  \\\n",
       "0          Aberdeen                      0     0.0    2.0      0.00  0.00   \n",
       "1           Abilene                      0     0.0    1.0      0.00  0.00   \n",
       "2          Abington                      0     1.0    1.0      1.06  1.06   \n",
       "3           Acworth                      0     0.0    1.0      0.00  0.00   \n",
       "4              Aiea                      0     0.0    1.0      0.00  0.00   \n",
       "\n",
       "   Conversions  View-through conv.  \n",
       "0          0.0                   0  \n",
       "1          0.0                   0  \n",
       "2          1.0                   0  \n",
       "3          0.0                   0  \n",
       "4          0.0                   0  "
      ]
     },
     "execution_count": 10,
     "metadata": {},
     "output_type": "execute_result"
    }
   ],
   "source": [
    "ytdf.head()"
   ]
  },
  {
   "cell_type": "markdown",
   "id": "8af52aca-0d58-497c-bb02-86a4c7d99e96",
   "metadata": {},
   "source": [
    "For reference, Aberdeen is allegedly in Washington State, so as a side note we should probably really knock down targeting before we publish ads in the future."
   ]
  },
  {
   "cell_type": "code",
   "execution_count": 11,
   "id": "e3032f73-e0bc-4651-a65b-f4e93f51cad1",
   "metadata": {},
   "outputs": [
    {
     "data": {
      "text/html": [
       "<div>\n",
       "<style scoped>\n",
       "    .dataframe tbody tr th:only-of-type {\n",
       "        vertical-align: middle;\n",
       "    }\n",
       "\n",
       "    .dataframe tbody tr th {\n",
       "        vertical-align: top;\n",
       "    }\n",
       "\n",
       "    .dataframe thead th {\n",
       "        text-align: right;\n",
       "    }\n",
       "</style>\n",
       "<table border=\"1\" class=\"dataframe\">\n",
       "  <thead>\n",
       "    <tr style=\"text-align: right;\">\n",
       "      <th></th>\n",
       "      <th>City</th>\n",
       "      <th>County</th>\n",
       "      <th>ANNA G. ESHOO</th>\n",
       "      <th>RISHI KUMAR</th>\n",
       "      <th>PETER OHTAKI</th>\n",
       "      <th>RICHARD B. FOX</th>\n",
       "      <th>GREG LIN TANAKA</th>\n",
       "      <th>AJWANG RADING</th>\n",
       "      <th>BENJAMIN THOMAS SOLOMON</th>\n",
       "      <th>JOHN KARL FREDRICH</th>\n",
       "      <th>Registered Voters</th>\n",
       "      <th>Total</th>\n",
       "    </tr>\n",
       "  </thead>\n",
       "  <tbody>\n",
       "    <tr>\n",
       "      <th>0</th>\n",
       "      <td>Campbell</td>\n",
       "      <td>53460</td>\n",
       "      <td>3626</td>\n",
       "      <td>1947</td>\n",
       "      <td>1036</td>\n",
       "      <td>854</td>\n",
       "      <td>517</td>\n",
       "      <td>461</td>\n",
       "      <td>125</td>\n",
       "      <td>157</td>\n",
       "      <td>25261</td>\n",
       "      <td>8723</td>\n",
       "    </tr>\n",
       "    <tr>\n",
       "      <th>1</th>\n",
       "      <td>Los Altos</td>\n",
       "      <td>48233</td>\n",
       "      <td>5219</td>\n",
       "      <td>1661</td>\n",
       "      <td>1489</td>\n",
       "      <td>560</td>\n",
       "      <td>655</td>\n",
       "      <td>577</td>\n",
       "      <td>107</td>\n",
       "      <td>81</td>\n",
       "      <td>25247</td>\n",
       "      <td>10349</td>\n",
       "    </tr>\n",
       "    <tr>\n",
       "      <th>2</th>\n",
       "      <td>Los Altos Hills</td>\n",
       "      <td>11387</td>\n",
       "      <td>1196</td>\n",
       "      <td>320</td>\n",
       "      <td>473</td>\n",
       "      <td>210</td>\n",
       "      <td>177</td>\n",
       "      <td>127</td>\n",
       "      <td>33</td>\n",
       "      <td>19</td>\n",
       "      <td>6507</td>\n",
       "      <td>2555</td>\n",
       "    </tr>\n",
       "    <tr>\n",
       "      <th>3</th>\n",
       "      <td>Los Gatos</td>\n",
       "      <td>30023</td>\n",
       "      <td>3466</td>\n",
       "      <td>1721</td>\n",
       "      <td>1201</td>\n",
       "      <td>650</td>\n",
       "      <td>314</td>\n",
       "      <td>268</td>\n",
       "      <td>138</td>\n",
       "      <td>69</td>\n",
       "      <td>22051</td>\n",
       "      <td>7827</td>\n",
       "    </tr>\n",
       "    <tr>\n",
       "      <th>4</th>\n",
       "      <td>Monte Sereno</td>\n",
       "      <td>15122</td>\n",
       "      <td>438</td>\n",
       "      <td>192</td>\n",
       "      <td>180</td>\n",
       "      <td>126</td>\n",
       "      <td>50</td>\n",
       "      <td>21</td>\n",
       "      <td>24</td>\n",
       "      <td>6</td>\n",
       "      <td>2683</td>\n",
       "      <td>1037</td>\n",
       "    </tr>\n",
       "  </tbody>\n",
       "</table>\n",
       "</div>"
      ],
      "text/plain": [
       "              City  County  ANNA G. ESHOO  RISHI KUMAR  PETER OHTAKI  \\\n",
       "0         Campbell   53460           3626         1947          1036   \n",
       "1        Los Altos   48233           5219         1661          1489   \n",
       "2  Los Altos Hills   11387           1196          320           473   \n",
       "3        Los Gatos   30023           3466         1721          1201   \n",
       "4     Monte Sereno   15122            438          192           180   \n",
       "\n",
       "   RICHARD B. FOX  GREG LIN TANAKA  AJWANG RADING  BENJAMIN THOMAS SOLOMON  \\\n",
       "0             854              517            461                      125   \n",
       "1             560              655            577                      107   \n",
       "2             210              177            127                       33   \n",
       "3             650              314            268                      138   \n",
       "4             126               50             21                       24   \n",
       "\n",
       "   JOHN KARL FREDRICH  Registered Voters  Total  \n",
       "0                 157              25261   8723  \n",
       "1                  81              25247  10349  \n",
       "2                  19               6507   2555  \n",
       "3                  69              22051   7827  \n",
       "4                   6               2683   1037  "
      ]
     },
     "execution_count": 11,
     "metadata": {},
     "output_type": "execute_result"
    }
   ],
   "source": [
    "scdf.head()"
   ]
  },
  {
   "cell_type": "markdown",
   "id": "3fc29af4-77a8-4618-a9d3-453c70039f7f",
   "metadata": {},
   "source": [
    "It seems like the YouTube data has a lot of cities that we don't care about, so let's filter it down to the cities we found in our voter data."
   ]
  },
  {
   "cell_type": "code",
   "execution_count": 12,
   "id": "ecb57151-3d5e-4e00-b80f-892e0a47ac1a",
   "metadata": {},
   "outputs": [],
   "source": [
    "ytdf_filtered = ytdf[ytdf['City (Geographic)'].isin(cities)]"
   ]
  },
  {
   "cell_type": "code",
   "execution_count": 13,
   "id": "88390a25-62f0-476b-a540-6a937b26a51e",
   "metadata": {},
   "outputs": [
    {
     "data": {
      "text/html": [
       "<div>\n",
       "<style scoped>\n",
       "    .dataframe tbody tr th:only-of-type {\n",
       "        vertical-align: middle;\n",
       "    }\n",
       "\n",
       "    .dataframe tbody tr th {\n",
       "        vertical-align: top;\n",
       "    }\n",
       "\n",
       "    .dataframe thead th {\n",
       "        text-align: right;\n",
       "    }\n",
       "</style>\n",
       "<table border=\"1\" class=\"dataframe\">\n",
       "  <thead>\n",
       "    <tr style=\"text-align: right;\">\n",
       "      <th></th>\n",
       "      <th>City</th>\n",
       "      <th>Campaign apps: active</th>\n",
       "      <th>Clicks</th>\n",
       "      <th>Impr.</th>\n",
       "      <th>Avg. CPC</th>\n",
       "      <th>Cost</th>\n",
       "      <th>Conversions</th>\n",
       "      <th>View-through conv.</th>\n",
       "    </tr>\n",
       "  </thead>\n",
       "  <tbody>\n",
       "    <tr>\n",
       "      <th>208</th>\n",
       "      <td>Campbell</td>\n",
       "      <td>0</td>\n",
       "      <td>7596.0</td>\n",
       "      <td>1425879.0</td>\n",
       "      <td>53.00</td>\n",
       "      <td>7619.09</td>\n",
       "      <td>24.0</td>\n",
       "      <td>0</td>\n",
       "    </tr>\n",
       "    <tr>\n",
       "      <th>816</th>\n",
       "      <td>Los Altos</td>\n",
       "      <td>0</td>\n",
       "      <td>787.0</td>\n",
       "      <td>117073.0</td>\n",
       "      <td>8.06</td>\n",
       "      <td>358.55</td>\n",
       "      <td>5.0</td>\n",
       "      <td>0</td>\n",
       "    </tr>\n",
       "    <tr>\n",
       "      <th>817</th>\n",
       "      <td>Los Altos Hills</td>\n",
       "      <td>0</td>\n",
       "      <td>3236.0</td>\n",
       "      <td>755255.0</td>\n",
       "      <td>60.86</td>\n",
       "      <td>3992.10</td>\n",
       "      <td>11.0</td>\n",
       "      <td>2</td>\n",
       "    </tr>\n",
       "    <tr>\n",
       "      <th>820</th>\n",
       "      <td>Los Gatos</td>\n",
       "      <td>0</td>\n",
       "      <td>3469.0</td>\n",
       "      <td>753394.0</td>\n",
       "      <td>62.70</td>\n",
       "      <td>4300.65</td>\n",
       "      <td>9.0</td>\n",
       "      <td>1</td>\n",
       "    </tr>\n",
       "    <tr>\n",
       "      <th>960</th>\n",
       "      <td>Mountain View</td>\n",
       "      <td>0</td>\n",
       "      <td>6716.0</td>\n",
       "      <td>1446524.0</td>\n",
       "      <td>60.23</td>\n",
       "      <td>9221.95</td>\n",
       "      <td>25.0</td>\n",
       "      <td>5</td>\n",
       "    </tr>\n",
       "  </tbody>\n",
       "</table>\n",
       "</div>"
      ],
      "text/plain": [
       "                City  Campaign apps: active  Clicks      Impr.  Avg. CPC  \\\n",
       "208         Campbell                      0  7596.0  1425879.0     53.00   \n",
       "816        Los Altos                      0   787.0   117073.0      8.06   \n",
       "817  Los Altos Hills                      0  3236.0   755255.0     60.86   \n",
       "820        Los Gatos                      0  3469.0   753394.0     62.70   \n",
       "960    Mountain View                      0  6716.0  1446524.0     60.23   \n",
       "\n",
       "        Cost  Conversions  View-through conv.  \n",
       "208  7619.09         24.0                   0  \n",
       "816   358.55          5.0                   0  \n",
       "817  3992.10         11.0                   2  \n",
       "820  4300.65          9.0                   1  \n",
       "960  9221.95         25.0                   5  "
      ]
     },
     "execution_count": 13,
     "metadata": {},
     "output_type": "execute_result"
    }
   ],
   "source": [
    "ytdf_filtered = ytdf_filtered.rename(columns={'City (Geographic)': 'City'}, errors = \"raise\")\n",
    "ytdf_filtered.head()"
   ]
  },
  {
   "cell_type": "code",
   "execution_count": 14,
   "id": "97c80cb5-b7cf-44ad-8454-2e5dea1f8cfa",
   "metadata": {},
   "outputs": [],
   "source": [
    "finaldf = pd.merge(left = scdf, right = ytdf_filtered, on = [\"City\"] )"
   ]
  },
  {
   "cell_type": "markdown",
   "id": "5ed7d37e-8516-466e-92ee-b4b1a4e789f0",
   "metadata": {},
   "source": [
    "## Modeling"
   ]
  },
  {
   "cell_type": "markdown",
   "id": "23c923c0-7fe8-4e17-a0db-64734954311a",
   "metadata": {},
   "source": [
    "To model, we have to first consider the fact that since different cities have different populations, there would of course be a correlation between the number of impressions and the number of voters. So our question for this model would be,\n",
    "\n",
    "Is there a correlation between the percent of voters won and the value Impressions/Registered voters? \n",
    "However, since there is a definite bound of percent voters won in [0,1], we opt to transform it to odds so that the bounds are (negative infinity, infinity). "
   ]
  },
  {
   "cell_type": "code",
   "execution_count": 15,
   "id": "dceb2218-0f48-4a3e-a8c7-f37b046ca74c",
   "metadata": {},
   "outputs": [],
   "source": [
    "def odds(row):\n",
    "    probability = row['GREG LIN TANAKA']/row['Total']\n",
    "    return probability/(1-probability)\n",
    "\n",
    "def ratio(row):\n",
    "    return row['Impr.']/row['Registered Voters']\n",
    "\n",
    "finaldf['Odds'] = finaldf.apply(lambda row: odds(row), axis=1)\n",
    "finaldf['Impr/Registered'] = finaldf.apply(lambda row: ratio(row), axis=1)"
   ]
  },
  {
   "cell_type": "code",
   "execution_count": 16,
   "id": "739fc934-e8c7-4215-9f5f-616e56d21bc0",
   "metadata": {},
   "outputs": [
    {
     "name": "stdout",
     "output_type": "stream",
     "text": [
      "              City  County  ANNA G. ESHOO  RISHI KUMAR  PETER OHTAKI  \\\n",
      "0         Campbell   53460           3626         1947          1036   \n",
      "1        Los Altos   48233           5219         1661          1489   \n",
      "2  Los Altos Hills   11387           1196          320           473   \n",
      "3        Los Gatos   30023           3466         1721          1201   \n",
      "4    Mountain View   51397           6102         2003          1071   \n",
      "5        Palo Alto   43092           8364         1558          1343   \n",
      "6         San Jose  692181          21563         8031          6697   \n",
      "7         Saratoga   83608           3153         2349          1228   \n",
      "8         Stanford    7624            794          103            43   \n",
      "\n",
      "   RICHARD B. FOX  GREG LIN TANAKA  AJWANG RADING  BENJAMIN THOMAS SOLOMON  \\\n",
      "0             854              517            461                      125   \n",
      "1             560              655            577                      107   \n",
      "2             210              177            127                       33   \n",
      "3             650              314            268                      138   \n",
      "4             554              856           1051                      148   \n",
      "5             582             1867           2188                      144   \n",
      "6            4884             2899           2419                     1003   \n",
      "7             737              617            386                      111   \n",
      "8              18               98            161                        8   \n",
      "\n",
      "   JOHN KARL FREDRICH  Registered Voters  Total  Campaign apps: active  \\\n",
      "0                 157              25261   8723                      0   \n",
      "1                  81              25247  10349                      0   \n",
      "2                  19               6507   2555                      0   \n",
      "3                  69              22051   7827                      0   \n",
      "4                 150              39027  11935                      0   \n",
      "5                 166              41688  16212                      0   \n",
      "6                 704             165431  48200                      0   \n",
      "7                  80              22887   8661                      0   \n",
      "8                  11               3980   1236                      0   \n",
      "\n",
      "   Clicks      Impr.  Avg. CPC     Cost  Conversions  View-through conv.  \\\n",
      "0  7596.0  1425879.0     53.00  7619.09         24.0                   0   \n",
      "1   787.0   117073.0      8.06   358.55          5.0                   0   \n",
      "2  3236.0   755255.0     60.86  3992.10         11.0                   2   \n",
      "3  3469.0   753394.0     62.70  4300.65          9.0                   1   \n",
      "4  6716.0  1446524.0     60.23  9221.95         25.0                   5   \n",
      "5  8145.0  1399459.0     57.65  7596.30         40.0                   5   \n",
      "6  4079.0   954587.0     49.26  7442.32         17.0                   5   \n",
      "7  3522.0   750923.0     55.73  3518.78         15.0                   4   \n",
      "8   906.0   264081.0     51.04  1626.60          6.0                   1   \n",
      "\n",
      "       Odds  Impr/Registered  \n",
      "0  0.063003        56.445865  \n",
      "1  0.067568         4.637105  \n",
      "2  0.074432       116.068081  \n",
      "3  0.041794        34.165979  \n",
      "4  0.077263        37.064699  \n",
      "5  0.130150        33.569828  \n",
      "6  0.063994         5.770303  \n",
      "7  0.076703        32.810023  \n",
      "8  0.086116        66.352010  \n"
     ]
    }
   ],
   "source": [
    "with pd.option_context('display.max_rows', None, 'display.max_columns', None):  # more options can be specified also\n",
    "    print(finaldf)"
   ]
  },
  {
   "cell_type": "markdown",
   "id": "2db8d469-bbe6-48dc-a953-6dda1dbfdb5a",
   "metadata": {},
   "source": [
    "## Linear Regression Model"
   ]
  },
  {
   "cell_type": "code",
   "execution_count": 17,
   "id": "86de7493-3107-4a86-b4ee-9c3ba2b9ea1b",
   "metadata": {},
   "outputs": [
    {
     "data": {
      "text/plain": [
       "<AxesSubplot:xlabel='Impr/Registered', ylabel='Odds'>"
      ]
     },
     "execution_count": 17,
     "metadata": {},
     "output_type": "execute_result"
    },
    {
     "data": {
      "image/png": "[encoded data removed]",
      "text/plain": [
       "<Figure size 432x288 with 1 Axes>"
      ]
     },
     "metadata": {
      "needs_background": "light"
     },
     "output_type": "display_data"
    }
   ],
   "source": [
    "sns.regplot(x = \"Impr/Registered\", y = \"Odds\", data = finaldf)"
   ]
  },
  {
   "cell_type": "code",
   "execution_count": 18,
   "id": "099f36fd-652d-41bb-aa31-4a6f99a6723e",
   "metadata": {},
   "outputs": [
    {
     "name": "stdout",
     "output_type": "stream",
     "text": [
      "Pearsonr correlation for x,y = 0.076\n",
      "Spearmanr correlation for x,y = 0.150\n",
      "\n",
      "Covariance Matrix = \n",
      " [[1.15360551e+03 6.17769847e-02]\n",
      " [6.17769847e-02 5.74039663e-04]]\n",
      "\n",
      "Correlation Matrix = \n",
      " [[1.         0.07591491]\n",
      " [0.07591491 1.        ]]\n"
     ]
    }
   ],
   "source": [
    "x = finaldf['Impr/Registered'].to_numpy()\n",
    "y = finaldf['Odds'].to_numpy()\n",
    "# Compute Correlations\n",
    "pr = st.pearsonr(x, y)\n",
    "sr = st.spearmanr(x, y)\n",
    "\n",
    "print(f'Pearsonr correlation for x,y = {pr[0]:5.3f}')\n",
    "print(f'Spearmanr correlation for x,y = {sr[0]:5.3f}')\n",
    "\n",
    "print('\\nCovariance Matrix = \\n', np.cov(x, y))\n",
    "\n",
    "print('\\nCorrelation Matrix = \\n', np.corrcoef(x, y))"
   ]
  },
  {
   "cell_type": "markdown",
   "id": "11247562-1319-4e07-86ef-20ec9a9821b8",
   "metadata": {},
   "source": [
    "As shown in the model and the correlation matrix, though there does seem to be a general positive trend, the coefficient is still *incredibly* low, which seems to indicate that Google Advertising was not as effective as we thought. Nevertheless, it is probably unrealistic to see very high correlations, but something to keep in mind is the outliers.\n",
    "\n",
    "We performed extremely well in Palo Alto, which can be attributed to the fact that Greg Tanaka is on its City Council. However, even with this buff, we still only finished third in terms of that city, with a great deficit behind Anna Eshoo and a ~1000 deficit behind Ajwang Rading.\n",
    "\n",
    "We performed extremely poorly in Los Gatos; at this moment in time, I am not sure why our odds were so though, but that is definitely an area we should look to improve upon."
   ]
  },
  {
   "cell_type": "markdown",
   "id": "4aeb7bfb-ba97-4dc0-965a-51cdcc16f859",
   "metadata": {},
   "source": [
    "# Recommendations and Next Steps"
   ]
  },
  {
   "cell_type": "markdown",
   "id": "c7f396de-06ea-44ed-8173-9e3525960918",
   "metadata": {},
   "source": [
    "Some conclusions we can make is to strictly limit the amount of ads we publish, since likely voters tend to be older with age and will be on their phones less than their younger counterparts. A lot of our campaign has been geared towards being progressive and very technological, especially with crypto being a significant part of the campaign. In the future, we can perhaps put more emphasis on issues that deal with older voters, such as healthcare, gun control, and inflation.\n",
    "There is also a huge difference between the number of registered voters and the number of actual voters, which may be something to think about when creating a campaign strategy.\n",
    "Lastly, it may be an interesting question on whether one should target defeating the Goliath (Anna Eshoo, in this case) or aiming for the run-off by focusing on the other candidates first, and then working on the Goliath afterwards.\n",
    "Source for likely voters can be found here: https://www.ppic.org/publication/californias-likely-voters/"
   ]
  },
  {
   "cell_type": "markdown",
   "id": "4e1a71a3-9702-434c-91f7-b25103c4b903",
   "metadata": {},
   "source": [
    "Some additional analysis can be done on the effectiveness of the crypto campaign alone, measuring success based on party leanings of each city, and spending and budgeting. "
   ]
  },
  {
   "cell_type": "markdown",
   "id": "7aa98305-a294-4e94-a716-031d09ba2aef",
   "metadata": {},
   "source": [
    "# Extras"
   ]
  },
  {
   "cell_type": "code",
   "execution_count": 19,
   "id": "89dd0e13-d3b3-40d3-9cec-ffaae1861981",
   "metadata": {},
   "outputs": [],
   "source": [
    "vdf = pd.read_csv('data/video_views.csv')"
   ]
  },
  {
   "cell_type": "code",
   "execution_count": 20,
   "id": "453ddf28-2560-4edf-a6bf-7e721c8f79fa",
   "metadata": {},
   "outputs": [],
   "source": [
    "vdf = vdf.rename(columns = {'Locations': 'City'}, errors = 'raise')\n",
    "vdf = pd.merge(left = scdf, right = vdf, on = ['City'])"
   ]
  },
  {
   "cell_type": "code",
   "execution_count": 21,
   "id": "6d81e845-e9b0-4700-90df-a8799ca3ff31",
   "metadata": {},
   "outputs": [
    {
     "data": {
      "text/html": [
       "<div>\n",
       "<style scoped>\n",
       "    .dataframe tbody tr th:only-of-type {\n",
       "        vertical-align: middle;\n",
       "    }\n",
       "\n",
       "    .dataframe tbody tr th {\n",
       "        vertical-align: top;\n",
       "    }\n",
       "\n",
       "    .dataframe thead th {\n",
       "        text-align: right;\n",
       "    }\n",
       "</style>\n",
       "<table border=\"1\" class=\"dataframe\">\n",
       "  <thead>\n",
       "    <tr style=\"text-align: right;\">\n",
       "      <th></th>\n",
       "      <th>City</th>\n",
       "      <th>County</th>\n",
       "      <th>ANNA G. ESHOO</th>\n",
       "      <th>RISHI KUMAR</th>\n",
       "      <th>PETER OHTAKI</th>\n",
       "      <th>RICHARD B. FOX</th>\n",
       "      <th>GREG LIN TANAKA</th>\n",
       "      <th>AJWANG RADING</th>\n",
       "      <th>BENJAMIN THOMAS SOLOMON</th>\n",
       "      <th>JOHN KARL FREDRICH</th>\n",
       "      <th>Registered Voters</th>\n",
       "      <th>Total</th>\n",
       "      <th>Views</th>\n",
       "    </tr>\n",
       "  </thead>\n",
       "  <tbody>\n",
       "    <tr>\n",
       "      <th>0</th>\n",
       "      <td>Campbell</td>\n",
       "      <td>53460</td>\n",
       "      <td>3626</td>\n",
       "      <td>1947</td>\n",
       "      <td>1036</td>\n",
       "      <td>854</td>\n",
       "      <td>517</td>\n",
       "      <td>461</td>\n",
       "      <td>125</td>\n",
       "      <td>157</td>\n",
       "      <td>25261</td>\n",
       "      <td>8723</td>\n",
       "      <td>16432</td>\n",
       "    </tr>\n",
       "    <tr>\n",
       "      <th>1</th>\n",
       "      <td>Los Altos</td>\n",
       "      <td>48233</td>\n",
       "      <td>5219</td>\n",
       "      <td>1661</td>\n",
       "      <td>1489</td>\n",
       "      <td>560</td>\n",
       "      <td>655</td>\n",
       "      <td>577</td>\n",
       "      <td>107</td>\n",
       "      <td>81</td>\n",
       "      <td>25247</td>\n",
       "      <td>10349</td>\n",
       "      <td>58</td>\n",
       "    </tr>\n",
       "    <tr>\n",
       "      <th>2</th>\n",
       "      <td>Los Altos Hills</td>\n",
       "      <td>11387</td>\n",
       "      <td>1196</td>\n",
       "      <td>320</td>\n",
       "      <td>473</td>\n",
       "      <td>210</td>\n",
       "      <td>177</td>\n",
       "      <td>127</td>\n",
       "      <td>33</td>\n",
       "      <td>19</td>\n",
       "      <td>6507</td>\n",
       "      <td>2555</td>\n",
       "      <td>6900</td>\n",
       "    </tr>\n",
       "    <tr>\n",
       "      <th>3</th>\n",
       "      <td>Los Gatos</td>\n",
       "      <td>30023</td>\n",
       "      <td>3466</td>\n",
       "      <td>1721</td>\n",
       "      <td>1201</td>\n",
       "      <td>650</td>\n",
       "      <td>314</td>\n",
       "      <td>268</td>\n",
       "      <td>138</td>\n",
       "      <td>69</td>\n",
       "      <td>22051</td>\n",
       "      <td>7827</td>\n",
       "      <td>7370</td>\n",
       "    </tr>\n",
       "    <tr>\n",
       "      <th>4</th>\n",
       "      <td>Mountain View</td>\n",
       "      <td>51397</td>\n",
       "      <td>6102</td>\n",
       "      <td>2003</td>\n",
       "      <td>1071</td>\n",
       "      <td>554</td>\n",
       "      <td>856</td>\n",
       "      <td>1051</td>\n",
       "      <td>148</td>\n",
       "      <td>150</td>\n",
       "      <td>39027</td>\n",
       "      <td>11935</td>\n",
       "      <td>20778</td>\n",
       "    </tr>\n",
       "  </tbody>\n",
       "</table>\n",
       "</div>"
      ],
      "text/plain": [
       "              City  County  ANNA G. ESHOO  RISHI KUMAR  PETER OHTAKI  \\\n",
       "0         Campbell   53460           3626         1947          1036   \n",
       "1        Los Altos   48233           5219         1661          1489   \n",
       "2  Los Altos Hills   11387           1196          320           473   \n",
       "3        Los Gatos   30023           3466         1721          1201   \n",
       "4    Mountain View   51397           6102         2003          1071   \n",
       "\n",
       "   RICHARD B. FOX  GREG LIN TANAKA  AJWANG RADING  BENJAMIN THOMAS SOLOMON  \\\n",
       "0             854              517            461                      125   \n",
       "1             560              655            577                      107   \n",
       "2             210              177            127                       33   \n",
       "3             650              314            268                      138   \n",
       "4             554              856           1051                      148   \n",
       "\n",
       "   JOHN KARL FREDRICH  Registered Voters  Total  Views  \n",
       "0                 157              25261   8723  16432  \n",
       "1                  81              25247  10349     58  \n",
       "2                  19               6507   2555   6900  \n",
       "3                  69              22051   7827   7370  \n",
       "4                 150              39027  11935  20778  "
      ]
     },
     "execution_count": 21,
     "metadata": {},
     "output_type": "execute_result"
    }
   ],
   "source": [
    "vdf.head()"
   ]
  },
  {
   "cell_type": "code",
   "execution_count": 22,
   "id": "2d101edb-9b28-4de8-a366-c8f774d9ae49",
   "metadata": {},
   "outputs": [],
   "source": [
    "def viewers(row):\n",
    "    return row['Views']/row['Registered Voters']\n",
    "vdf['View/Voter'] = vdf.apply(lambda row: viewers(row), axis=1)\n",
    "vdf['Odds'] = finaldf['Odds']"
   ]
  },
  {
   "cell_type": "code",
   "execution_count": 23,
   "id": "4d0b1190-e62f-4353-8ab1-a307d71f6800",
   "metadata": {},
   "outputs": [
    {
     "data": {
      "text/plain": [
       "<AxesSubplot:xlabel='View/Voter', ylabel='Odds'>"
      ]
     },
     "execution_count": 23,
     "metadata": {},
     "output_type": "execute_result"
    },
    {
     "data": {
      "image/png": "[encoded data removed]",
      "text/plain": [
       "<Figure size 432x288 with 1 Axes>"
      ]
     },
     "metadata": {
      "needs_background": "light"
     },
     "output_type": "display_data"
    }
   ],
   "source": [
    "sns.regplot(x = \"View/Voter\", y = \"Odds\", data = vdf)"
   ]
  },
  {
   "cell_type": "code",
   "execution_count": 24,
   "id": "8cda47d3-fa03-4f32-8c21-9d88824b708d",
   "metadata": {},
   "outputs": [
    {
     "name": "stdout",
     "output_type": "stream",
     "text": [
      "Pearsonr correlation for x,y = 0.031\n",
      "Spearmanr correlation for x,y = 0.150\n",
      "\n",
      "Covariance Matrix = \n",
      " [[0.11111683 0.00024375]\n",
      " [0.00024375 0.00057404]]\n",
      "\n",
      "Correlation Matrix = \n",
      " [[1.         0.03051999]\n",
      " [0.03051999 1.        ]]\n"
     ]
    }
   ],
   "source": [
    "x = vdf['View/Voter'].to_numpy()\n",
    "y = vdf['Odds'].to_numpy()\n",
    "# Compute Correlations\n",
    "pr = st.pearsonr(x, y)\n",
    "sr = st.spearmanr(x, y)\n",
    "\n",
    "print(f'Pearsonr correlation for x,y = {pr[0]:5.3f}')\n",
    "print(f'Spearmanr correlation for x,y = {sr[0]:5.3f}')\n",
    "\n",
    "print('\\nCovariance Matrix = \\n', np.cov(x, y))\n",
    "\n",
    "print('\\nCorrelation Matrix = \\n', np.corrcoef(x, y))"
   ]
  },
  {
   "cell_type": "code",
   "execution_count": 25,
   "id": "93cbd50a-b217-4e0f-b2c6-0d166a870b39",
   "metadata": {},
   "outputs": [],
   "source": [
    "finaldf.to_csv(\"data/santa_clara_yt.csv\")"
   ]
  },
  {
   "cell_type": "code",
   "execution_count": null,
   "id": "488a24ab-c992-4501-a8ab-b22da6d0b096",
   "metadata": {},
   "outputs": [],
   "source": []
  }
 ],
 "metadata": {
  "kernelspec": {
   "display_name": "Python 3 (ipykernel)",
   "language": "python",
   "name": "python3"
  },
  "language_info": {
   "codemirror_mode": {
    "name": "ipython",
    "version": 3
   },
   "file_extension": ".py",
   "mimetype": "text/x-python",
   "name": "python",
   "nbconvert_exporter": "python",
   "pygments_lexer": "ipython3",
   "version": "3.9.5"
  }
 },
 "nbformat": 4,
 "nbformat_minor": 5
}
