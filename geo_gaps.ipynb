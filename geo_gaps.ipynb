{
 "cells": [
  {
   "cell_type": "markdown",
   "id": "d175ec4d-7c44-4252-8ed0-eb3060dbb7c9",
   "metadata": {},
   "source": [
    "# Geographic Differences"
   ]
  },
  {
   "cell_type": "markdown",
   "id": "b5a96bc9-2364-4796-8f28-3e337230dde2",
   "metadata": {},
   "source": [
    "The purpose of this report is to ask: how did different places vote differently? Which candidates seem to do better in the same places, and which candidates seem to perform in opposite directions in other places?"
   ]
  },
  {
   "cell_type": "code",
   "execution_count": 1,
   "id": "3f4b10bd-776d-4b70-b32b-bd175245aa96",
   "metadata": {},
   "outputs": [],
   "source": [
    "import pandas as pd\n",
    "import sys\n",
    "import os\n",
    "import matplotlib.pyplot as plt\n",
    "import numpy as np\n",
    "import seaborn as sns"
   ]
  },
  {
   "cell_type": "code",
   "execution_count": 25,
   "id": "55092a33-e19a-44b5-9bb5-d09e7b6bd092",
   "metadata": {},
   "outputs": [],
   "source": [
    "votes = pd.read_csv(\"data/fullcity_votes.csv\")"
   ]
  },
  {
   "cell_type": "markdown",
   "id": "4f87038e-84a2-4639-9f0d-9bfd5ff058bf",
   "metadata": {},
   "source": [
    "# Exploratory Data Analysis"
   ]
  },
  {
   "cell_type": "code",
   "execution_count": 27,
   "id": "4aba5b28-7af1-438f-868b-4c9ee05d4139",
   "metadata": {},
   "outputs": [],
   "source": [
    "votes.iloc[:, 1:-1] = votes.iloc[:,1:-1].div(votes.Total, axis=0)\n",
    "votes = votes.iloc[:, :-2]"
   ]
  },
  {
   "cell_type": "code",
   "execution_count": 38,
   "id": "cccfea4b-8e4c-4e03-90d9-35f0900b76e2",
   "metadata": {},
   "outputs": [
    {
     "data": {
      "text/html": [
       "<div>\n",
       "<style scoped>\n",
       "    .dataframe tbody tr th:only-of-type {\n",
       "        vertical-align: middle;\n",
       "    }\n",
       "\n",
       "    .dataframe tbody tr th {\n",
       "        vertical-align: top;\n",
       "    }\n",
       "\n",
       "    .dataframe thead th {\n",
       "        text-align: right;\n",
       "    }\n",
       "</style>\n",
       "<table border=\"1\" class=\"dataframe\">\n",
       "  <thead>\n",
       "    <tr style=\"text-align: right;\">\n",
       "      <th></th>\n",
       "      <th>City</th>\n",
       "      <th>BENJAMIN THOMAS SOLOMON</th>\n",
       "      <th>JOHN KARL FREDRICH</th>\n",
       "      <th>RICHARD B. FOX</th>\n",
       "      <th>AJWANG RADING</th>\n",
       "      <th>RISHI KUMAR</th>\n",
       "      <th>ANNA G. ESHOO</th>\n",
       "      <th>PETER OHTAKI</th>\n",
       "      <th>GREG LIN TANAKA</th>\n",
       "    </tr>\n",
       "  </thead>\n",
       "  <tbody>\n",
       "    <tr>\n",
       "      <th>0</th>\n",
       "      <td>Atherton</td>\n",
       "      <td>0.020968</td>\n",
       "      <td>0.005914</td>\n",
       "      <td>0.076882</td>\n",
       "      <td>0.032258</td>\n",
       "      <td>0.083333</td>\n",
       "      <td>0.504301</td>\n",
       "      <td>0.229032</td>\n",
       "      <td>0.047312</td>\n",
       "    </tr>\n",
       "    <tr>\n",
       "      <th>1</th>\n",
       "      <td>Half Moon Bay</td>\n",
       "      <td>0.014815</td>\n",
       "      <td>0.017369</td>\n",
       "      <td>0.089144</td>\n",
       "      <td>0.039847</td>\n",
       "      <td>0.091954</td>\n",
       "      <td>0.589527</td>\n",
       "      <td>0.111877</td>\n",
       "      <td>0.045466</td>\n",
       "    </tr>\n",
       "    <tr>\n",
       "      <th>2</th>\n",
       "      <td>Menlo Park</td>\n",
       "      <td>0.008106</td>\n",
       "      <td>0.008367</td>\n",
       "      <td>0.032161</td>\n",
       "      <td>0.087724</td>\n",
       "      <td>0.106027</td>\n",
       "      <td>0.563080</td>\n",
       "      <td>0.143679</td>\n",
       "      <td>0.050856</td>\n",
       "    </tr>\n",
       "    <tr>\n",
       "      <th>3</th>\n",
       "      <td>Pacifica</td>\n",
       "      <td>0.017489</td>\n",
       "      <td>0.018075</td>\n",
       "      <td>0.095945</td>\n",
       "      <td>0.057841</td>\n",
       "      <td>0.119297</td>\n",
       "      <td>0.535222</td>\n",
       "      <td>0.094284</td>\n",
       "      <td>0.061847</td>\n",
       "    </tr>\n",
       "    <tr>\n",
       "      <th>4</th>\n",
       "      <td>Redwood City</td>\n",
       "      <td>0.013195</td>\n",
       "      <td>0.013195</td>\n",
       "      <td>0.096136</td>\n",
       "      <td>0.039585</td>\n",
       "      <td>0.092366</td>\n",
       "      <td>0.576814</td>\n",
       "      <td>0.121583</td>\n",
       "      <td>0.047125</td>\n",
       "    </tr>\n",
       "    <tr>\n",
       "      <th>5</th>\n",
       "      <td>Granada</td>\n",
       "      <td>0.014158</td>\n",
       "      <td>0.017884</td>\n",
       "      <td>0.071162</td>\n",
       "      <td>0.033532</td>\n",
       "      <td>0.056632</td>\n",
       "      <td>0.667660</td>\n",
       "      <td>0.096870</td>\n",
       "      <td>0.042101</td>\n",
       "    </tr>\n",
       "    <tr>\n",
       "      <th>6</th>\n",
       "      <td>Moss Beach</td>\n",
       "      <td>0.015385</td>\n",
       "      <td>0.018100</td>\n",
       "      <td>0.067873</td>\n",
       "      <td>0.037104</td>\n",
       "      <td>0.071493</td>\n",
       "      <td>0.663348</td>\n",
       "      <td>0.076923</td>\n",
       "      <td>0.049774</td>\n",
       "    </tr>\n",
       "    <tr>\n",
       "      <th>7</th>\n",
       "      <td>La Honda</td>\n",
       "      <td>0.019714</td>\n",
       "      <td>0.012237</td>\n",
       "      <td>0.090415</td>\n",
       "      <td>0.072740</td>\n",
       "      <td>0.081577</td>\n",
       "      <td>0.594154</td>\n",
       "      <td>0.091774</td>\n",
       "      <td>0.037390</td>\n",
       "    </tr>\n",
       "    <tr>\n",
       "      <th>8</th>\n",
       "      <td>San Gregorio</td>\n",
       "      <td>0.078431</td>\n",
       "      <td>0.019608</td>\n",
       "      <td>0.235294</td>\n",
       "      <td>0.058824</td>\n",
       "      <td>0.049020</td>\n",
       "      <td>0.480392</td>\n",
       "      <td>0.058824</td>\n",
       "      <td>0.019608</td>\n",
       "    </tr>\n",
       "    <tr>\n",
       "      <th>9</th>\n",
       "      <td>Ladera</td>\n",
       "      <td>0.007080</td>\n",
       "      <td>0.001770</td>\n",
       "      <td>0.026549</td>\n",
       "      <td>0.074336</td>\n",
       "      <td>0.107965</td>\n",
       "      <td>0.635398</td>\n",
       "      <td>0.120354</td>\n",
       "      <td>0.026549</td>\n",
       "    </tr>\n",
       "    <tr>\n",
       "      <th>10</th>\n",
       "      <td>Stanford</td>\n",
       "      <td>0.026786</td>\n",
       "      <td>0.008929</td>\n",
       "      <td>0.053571</td>\n",
       "      <td>0.044643</td>\n",
       "      <td>0.142857</td>\n",
       "      <td>0.535714</td>\n",
       "      <td>0.142857</td>\n",
       "      <td>0.044643</td>\n",
       "    </tr>\n",
       "    <tr>\n",
       "      <th>11</th>\n",
       "      <td>Portola</td>\n",
       "      <td>0.012828</td>\n",
       "      <td>0.003904</td>\n",
       "      <td>0.052426</td>\n",
       "      <td>0.167875</td>\n",
       "      <td>0.102621</td>\n",
       "      <td>0.467373</td>\n",
       "      <td>0.161182</td>\n",
       "      <td>0.031790</td>\n",
       "    </tr>\n",
       "    <tr>\n",
       "      <th>12</th>\n",
       "      <td>Woodside</td>\n",
       "      <td>0.030017</td>\n",
       "      <td>0.007782</td>\n",
       "      <td>0.098388</td>\n",
       "      <td>0.050584</td>\n",
       "      <td>0.100611</td>\n",
       "      <td>0.508060</td>\n",
       "      <td>0.171206</td>\n",
       "      <td>0.033352</td>\n",
       "    </tr>\n",
       "    <tr>\n",
       "      <th>13</th>\n",
       "      <td>Campbell</td>\n",
       "      <td>0.014330</td>\n",
       "      <td>0.017998</td>\n",
       "      <td>0.097902</td>\n",
       "      <td>0.052849</td>\n",
       "      <td>0.223203</td>\n",
       "      <td>0.415683</td>\n",
       "      <td>0.118766</td>\n",
       "      <td>0.059269</td>\n",
       "    </tr>\n",
       "    <tr>\n",
       "      <th>14</th>\n",
       "      <td>Los Altos</td>\n",
       "      <td>0.010339</td>\n",
       "      <td>0.007827</td>\n",
       "      <td>0.054112</td>\n",
       "      <td>0.055754</td>\n",
       "      <td>0.160499</td>\n",
       "      <td>0.504300</td>\n",
       "      <td>0.143879</td>\n",
       "      <td>0.063291</td>\n",
       "    </tr>\n",
       "    <tr>\n",
       "      <th>15</th>\n",
       "      <td>Los Altos Hills</td>\n",
       "      <td>0.012916</td>\n",
       "      <td>0.007436</td>\n",
       "      <td>0.082192</td>\n",
       "      <td>0.049706</td>\n",
       "      <td>0.125245</td>\n",
       "      <td>0.468102</td>\n",
       "      <td>0.185127</td>\n",
       "      <td>0.069276</td>\n",
       "    </tr>\n",
       "    <tr>\n",
       "      <th>16</th>\n",
       "      <td>Los Gatos</td>\n",
       "      <td>0.017631</td>\n",
       "      <td>0.008816</td>\n",
       "      <td>0.083046</td>\n",
       "      <td>0.034240</td>\n",
       "      <td>0.219880</td>\n",
       "      <td>0.442826</td>\n",
       "      <td>0.153443</td>\n",
       "      <td>0.040118</td>\n",
       "    </tr>\n",
       "    <tr>\n",
       "      <th>17</th>\n",
       "      <td>Mountain View</td>\n",
       "      <td>0.012401</td>\n",
       "      <td>0.012568</td>\n",
       "      <td>0.046418</td>\n",
       "      <td>0.088060</td>\n",
       "      <td>0.167826</td>\n",
       "      <td>0.511269</td>\n",
       "      <td>0.089736</td>\n",
       "      <td>0.071722</td>\n",
       "    </tr>\n",
       "    <tr>\n",
       "      <th>18</th>\n",
       "      <td>Palo Alto</td>\n",
       "      <td>0.008882</td>\n",
       "      <td>0.010239</td>\n",
       "      <td>0.035899</td>\n",
       "      <td>0.134962</td>\n",
       "      <td>0.096102</td>\n",
       "      <td>0.515914</td>\n",
       "      <td>0.082840</td>\n",
       "      <td>0.115162</td>\n",
       "    </tr>\n",
       "    <tr>\n",
       "      <th>19</th>\n",
       "      <td>San Jose</td>\n",
       "      <td>0.020809</td>\n",
       "      <td>0.014606</td>\n",
       "      <td>0.101328</td>\n",
       "      <td>0.050187</td>\n",
       "      <td>0.166618</td>\n",
       "      <td>0.447365</td>\n",
       "      <td>0.138942</td>\n",
       "      <td>0.060145</td>\n",
       "    </tr>\n",
       "    <tr>\n",
       "      <th>20</th>\n",
       "      <td>Saratoga</td>\n",
       "      <td>0.012816</td>\n",
       "      <td>0.009237</td>\n",
       "      <td>0.085094</td>\n",
       "      <td>0.044568</td>\n",
       "      <td>0.271216</td>\n",
       "      <td>0.364046</td>\n",
       "      <td>0.141785</td>\n",
       "      <td>0.071239</td>\n",
       "    </tr>\n",
       "    <tr>\n",
       "      <th>21</th>\n",
       "      <td>Stanford</td>\n",
       "      <td>0.006472</td>\n",
       "      <td>0.008900</td>\n",
       "      <td>0.014563</td>\n",
       "      <td>0.130259</td>\n",
       "      <td>0.083333</td>\n",
       "      <td>0.642395</td>\n",
       "      <td>0.034790</td>\n",
       "      <td>0.079288</td>\n",
       "    </tr>\n",
       "    <tr>\n",
       "      <th>22</th>\n",
       "      <td>TOTAL</td>\n",
       "      <td>0.015628</td>\n",
       "      <td>0.012596</td>\n",
       "      <td>0.077215</td>\n",
       "      <td>0.065592</td>\n",
       "      <td>0.154190</td>\n",
       "      <td>0.484808</td>\n",
       "      <td>0.125326</td>\n",
       "      <td>0.064646</td>\n",
       "    </tr>\n",
       "  </tbody>\n",
       "</table>\n",
       "</div>"
      ],
      "text/plain": [
       "               City  BENJAMIN THOMAS SOLOMON  JOHN KARL FREDRICH  \\\n",
       "0          Atherton                 0.020968            0.005914   \n",
       "1     Half Moon Bay                 0.014815            0.017369   \n",
       "2        Menlo Park                 0.008106            0.008367   \n",
       "3          Pacifica                 0.017489            0.018075   \n",
       "4      Redwood City                 0.013195            0.013195   \n",
       "5           Granada                 0.014158            0.017884   \n",
       "6        Moss Beach                 0.015385            0.018100   \n",
       "7          La Honda                 0.019714            0.012237   \n",
       "8      San Gregorio                 0.078431            0.019608   \n",
       "9            Ladera                 0.007080            0.001770   \n",
       "10         Stanford                 0.026786            0.008929   \n",
       "11          Portola                 0.012828            0.003904   \n",
       "12         Woodside                 0.030017            0.007782   \n",
       "13         Campbell                 0.014330            0.017998   \n",
       "14        Los Altos                 0.010339            0.007827   \n",
       "15  Los Altos Hills                 0.012916            0.007436   \n",
       "16        Los Gatos                 0.017631            0.008816   \n",
       "17    Mountain View                 0.012401            0.012568   \n",
       "18        Palo Alto                 0.008882            0.010239   \n",
       "19         San Jose                 0.020809            0.014606   \n",
       "20         Saratoga                 0.012816            0.009237   \n",
       "21         Stanford                 0.006472            0.008900   \n",
       "22            TOTAL                 0.015628            0.012596   \n",
       "\n",
       "    RICHARD B. FOX  AJWANG RADING  RISHI KUMAR  ANNA G. ESHOO  PETER OHTAKI  \\\n",
       "0         0.076882       0.032258     0.083333       0.504301      0.229032   \n",
       "1         0.089144       0.039847     0.091954       0.589527      0.111877   \n",
       "2         0.032161       0.087724     0.106027       0.563080      0.143679   \n",
       "3         0.095945       0.057841     0.119297       0.535222      0.094284   \n",
       "4         0.096136       0.039585     0.092366       0.576814      0.121583   \n",
       "5         0.071162       0.033532     0.056632       0.667660      0.096870   \n",
       "6         0.067873       0.037104     0.071493       0.663348      0.076923   \n",
       "7         0.090415       0.072740     0.081577       0.594154      0.091774   \n",
       "8         0.235294       0.058824     0.049020       0.480392      0.058824   \n",
       "9         0.026549       0.074336     0.107965       0.635398      0.120354   \n",
       "10        0.053571       0.044643     0.142857       0.535714      0.142857   \n",
       "11        0.052426       0.167875     0.102621       0.467373      0.161182   \n",
       "12        0.098388       0.050584     0.100611       0.508060      0.171206   \n",
       "13        0.097902       0.052849     0.223203       0.415683      0.118766   \n",
       "14        0.054112       0.055754     0.160499       0.504300      0.143879   \n",
       "15        0.082192       0.049706     0.125245       0.468102      0.185127   \n",
       "16        0.083046       0.034240     0.219880       0.442826      0.153443   \n",
       "17        0.046418       0.088060     0.167826       0.511269      0.089736   \n",
       "18        0.035899       0.134962     0.096102       0.515914      0.082840   \n",
       "19        0.101328       0.050187     0.166618       0.447365      0.138942   \n",
       "20        0.085094       0.044568     0.271216       0.364046      0.141785   \n",
       "21        0.014563       0.130259     0.083333       0.642395      0.034790   \n",
       "22        0.077215       0.065592     0.154190       0.484808      0.125326   \n",
       "\n",
       "    GREG LIN TANAKA  \n",
       "0          0.047312  \n",
       "1          0.045466  \n",
       "2          0.050856  \n",
       "3          0.061847  \n",
       "4          0.047125  \n",
       "5          0.042101  \n",
       "6          0.049774  \n",
       "7          0.037390  \n",
       "8          0.019608  \n",
       "9          0.026549  \n",
       "10         0.044643  \n",
       "11         0.031790  \n",
       "12         0.033352  \n",
       "13         0.059269  \n",
       "14         0.063291  \n",
       "15         0.069276  \n",
       "16         0.040118  \n",
       "17         0.071722  \n",
       "18         0.115162  \n",
       "19         0.060145  \n",
       "20         0.071239  \n",
       "21         0.079288  \n",
       "22         0.064646  "
      ]
     },
     "execution_count": 38,
     "metadata": {},
     "output_type": "execute_result"
    }
   ],
   "source": [
    "votes"
   ]
  },
  {
   "cell_type": "markdown",
   "id": "510817dd-4cd3-4172-8770-4bff71de33db",
   "metadata": {},
   "source": [
    "## Exploring Candidate Performance"
   ]
  },
  {
   "cell_type": "markdown",
   "id": "ffaaeade-7083-4f3c-8926-ef575b9cddb3",
   "metadata": {},
   "source": [
    "In the following charts, we explore how each candidate performed in each city. On the x-axis will be win percentages, while the y-axis will be the count of how many times it occurred. \n",
    "\n",
    "For example, if a candidate won 20% of the vote in 3 cities, she or he will have a count of 3 in the 0.2 part of the histogram."
   ]
  },
  {
   "cell_type": "code",
   "execution_count": 31,
   "id": "8ea7c911-abd8-466f-a650-31f16a32974d",
   "metadata": {},
   "outputs": [
    {
     "data": {
      "text/plain": [
       "<AxesSubplot:xlabel='GREG LIN TANAKA', ylabel='Count'>"
      ]
     },
     "execution_count": 31,
     "metadata": {},
     "output_type": "execute_result"
    },
    {
     "data": {
      "image/png": "[encoded data removed]",
      "text/plain": [
       "<Figure size 432x288 with 1 Axes>"
      ]
     },
     "metadata": {
      "needs_background": "light"
     },
     "output_type": "display_data"
    }
   ],
   "source": [
    "sns.histplot(x = \"GREG LIN TANAKA\", data = votes, kde = True)"
   ]
  },
  {
   "cell_type": "markdown",
   "id": "e6a0af12-447b-43d8-ba04-2cce4aa22f36",
   "metadata": {},
   "source": [
    "Tanaka has a outlier at 0.10 - this is Palo Alto, where he serves as a city councilman."
   ]
  },
  {
   "cell_type": "code",
   "execution_count": 32,
   "id": "d062d304-5f95-46a5-aa2e-18a7f187a35a",
   "metadata": {},
   "outputs": [
    {
     "data": {
      "text/plain": [
       "<AxesSubplot:xlabel='AJWANG RADING', ylabel='Count'>"
      ]
     },
     "execution_count": 32,
     "metadata": {},
     "output_type": "execute_result"
    },
    {
     "data": {
      "image/png": "[encoded data removed]",
      "text/plain": [
       "<Figure size 432x288 with 1 Axes>"
      ]
     },
     "metadata": {
      "needs_background": "light"
     },
     "output_type": "display_data"
    }
   ],
   "source": [
    "sns.histplot(x = \"AJWANG RADING\", data = votes, kde = True)"
   ]
  },
  {
   "cell_type": "markdown",
   "id": "6d863060-5c3e-4b95-a1a9-2d378ccd9a8e",
   "metadata": {},
   "source": [
    "Rading's histogram is bimodal, in which he did significantly better in three cities (Palo Alto, Stanford, and some other smaller city) than the rest."
   ]
  },
  {
   "cell_type": "code",
   "execution_count": 33,
   "id": "36bd9d2a-e3a6-48ee-9f88-4d113a92b2f9",
   "metadata": {},
   "outputs": [
    {
     "data": {
      "text/plain": [
       "<AxesSubplot:xlabel='RISHI KUMAR', ylabel='Count'>"
      ]
     },
     "execution_count": 33,
     "metadata": {},
     "output_type": "execute_result"
    },
    {
     "data": {
      "image/png": "[encoded data removed]",
      "text/plain": [
       "<Figure size 432x288 with 1 Axes>"
      ]
     },
     "metadata": {
      "needs_background": "light"
     },
     "output_type": "display_data"
    }
   ],
   "source": [
    "sns.histplot(x = \"RISHI KUMAR\", data = votes, kde = True)"
   ]
  },
  {
   "cell_type": "markdown",
   "id": "ead4cc17-52c9-4c5d-8c87-30303f304944",
   "metadata": {},
   "source": [
    "Rishi Kumar has a unimodal right skew histogram, which indicates generally solid and consistent campaigning, with more votes from Saratoga, his home city, as well as Los Gatos and Campbell."
   ]
  },
  {
   "cell_type": "code",
   "execution_count": 34,
   "id": "50f54d99-6d84-4b19-b17e-a87dc3e0797c",
   "metadata": {},
   "outputs": [
    {
     "data": {
      "text/plain": [
       "<AxesSubplot:xlabel='ANNA G. ESHOO', ylabel='Count'>"
      ]
     },
     "execution_count": 34,
     "metadata": {},
     "output_type": "execute_result"
    },
    {
     "data": {
      "image/png": "[encoded data removed]",
      "text/plain": [
       "<Figure size 432x288 with 1 Axes>"
      ]
     },
     "metadata": {
      "needs_background": "light"
     },
     "output_type": "display_data"
    }
   ],
   "source": [
    "sns.histplot(x = \"ANNA G. ESHOO\", data = votes, kde = True)"
   ]
  },
  {
   "cell_type": "markdown",
   "id": "b48d6b38-1620-446f-b0ba-75732f7de237",
   "metadata": {},
   "source": [
    "Anna Eshoo has a very normal graph, but what is to note is the scale; this will be further shown in another graph."
   ]
  },
  {
   "cell_type": "code",
   "execution_count": 35,
   "id": "5ebb5453-bef7-4118-a1ad-8258022f9ce1",
   "metadata": {},
   "outputs": [
    {
     "data": {
      "text/plain": [
       "<AxesSubplot:xlabel='PETER OHTAKI', ylabel='Count'>"
      ]
     },
     "execution_count": 35,
     "metadata": {},
     "output_type": "execute_result"
    },
    {
     "data": {
      "image/png": "[encoded data removed]",
      "text/plain": [
       "<Figure size 432x288 with 1 Axes>"
      ]
     },
     "metadata": {
      "needs_background": "light"
     },
     "output_type": "display_data"
    }
   ],
   "source": [
    "sns.histplot(x = \"PETER OHTAKI\", data = votes, kde = True)"
   ]
  },
  {
   "cell_type": "markdown",
   "id": "1d7c19fe-e997-4508-ad53-83aa000e3752",
   "metadata": {},
   "source": [
    "Very normal and unimodal, the type of things you'd expect to see in a statistics textbook."
   ]
  },
  {
   "cell_type": "code",
   "execution_count": 37,
   "id": "7bbb176b-c176-4014-81f6-dc2a7acb5bb7",
   "metadata": {},
   "outputs": [
    {
     "data": {
      "text/plain": [
       "<AxesSubplot:xlabel='RICHARD B. FOX', ylabel='Count'>"
      ]
     },
     "execution_count": 37,
     "metadata": {},
     "output_type": "execute_result"
    },
    {
     "data": {
      "image/png": "[encoded data removed]",
      "text/plain": [
       "<Figure size 432x288 with 1 Axes>"
      ]
     },
     "metadata": {
      "needs_background": "light"
     },
     "output_type": "display_data"
    }
   ],
   "source": [
    "sns.histplot(x = \"RICHARD B. FOX\", data = votes, kde = True)"
   ]
  },
  {
   "cell_type": "markdown",
   "id": "1abf55b3-6420-406c-b0ee-e9dd14c1e8ad",
   "metadata": {},
   "source": [
    "A normal and unimodal graph, with an outlier at 0.20, which is Campbell, his home city."
   ]
  },
  {
   "cell_type": "code",
   "execution_count": 47,
   "id": "021ccab3-36dd-4f51-9cd6-ef402fd35e62",
   "metadata": {},
   "outputs": [],
   "source": [
    "contenders = votes.loc[:, ~votes.columns.isin(['JOHN KARL FREDRICH', 'BENJAMIN THOMAS SOLOMON'])]\n",
    "test = contenders.melt(id_vars = ['City'], value_vars = contenders.columns[1:], var_name = \"Candidate\", value_name = \"% Won\", ignore_index = True)"
   ]
  },
  {
   "cell_type": "code",
   "execution_count": 57,
   "id": "d46587de-7034-42c7-ae19-86b948df148b",
   "metadata": {},
   "outputs": [
    {
     "data": {
      "text/plain": [
       "<AxesSubplot:xlabel='% Won', ylabel='Count'>"
      ]
     },
     "execution_count": 57,
     "metadata": {},
     "output_type": "execute_result"
    },
    {
     "data": {
      "image/png": "[encoded data removed]",
      "text/plain": [
       "<Figure size 432x288 with 1 Axes>"
      ]
     },
     "metadata": {
      "needs_background": "light"
     },
     "output_type": "display_data"
    }
   ],
   "source": [
    "sns.set_palette('pastel')\n",
    "sns.histplot(x = \"% Won\", hue = \"Candidate\",multiple = \"stack\", data = test)"
   ]
  },
  {
   "cell_type": "markdown",
   "id": "8f6deeb2-4967-42f5-8197-1d80fd69e01d",
   "metadata": {},
   "source": [
    "Here, we put all the candidates on the same figure to compare their performances. You can see how as a candidate does better, their area shifts more to the right, since they won more votes in each city, except for certain outliers. Furthermore, you can see how Anna Eshoo is in a league of her own."
   ]
  },
  {
   "cell_type": "markdown",
   "id": "58561200-8cb5-4d34-8414-b6a73aedb40a",
   "metadata": {},
   "source": [
    "# Correlation Plots"
   ]
  },
  {
   "cell_type": "code",
   "execution_count": 2,
   "id": "c9cebee4-a5d6-410f-a476-a571092a651e",
   "metadata": {},
   "outputs": [],
   "source": [
    "newsm = pd.read_csv('data/San_Mateo_June23_Condensed.csv')\n",
    "newsc = pd.read_csv('data/Santa_Clara_June28.csv')"
   ]
  },
  {
   "cell_type": "code",
   "execution_count": 3,
   "id": "ca6b4b7c-354e-43a0-a8db-3993fc57a174",
   "metadata": {},
   "outputs": [],
   "source": [
    "newsm = newsm[['Precinct_name', 'candidate_name', 'total_votes']]"
   ]
  },
  {
   "cell_type": "code",
   "execution_count": 4,
   "id": "6b98f498-e001-42fd-b68d-74b5637a75ff",
   "metadata": {},
   "outputs": [],
   "source": [
    "test = newsm.pivot(index = 'Precinct_name', columns = 'candidate_name')\n",
    "test.columns = [column[1] for column in test.columns]\n",
    "test.reset_index(inplace = True)"
   ]
  },
  {
   "cell_type": "code",
   "execution_count": 5,
   "id": "25412cda-7a5e-4fce-8376-91bf2b62feb3",
   "metadata": {},
   "outputs": [
    {
     "data": {
      "text/plain": [
       "Index(['Precinct_name', 'AJWANG RADING', 'ANNA G. ESHOO',\n",
       "       'BENJAMIN THOMAS SOLOMON', 'GREG LIN TANAKA', 'JOHN KARL FREDRICH',\n",
       "       'PETER OHTAKI', 'RICHARD B. FOX', 'RISHI KUMAR',\n",
       "       'TRAVIS ANDREW ODEKIRK'],\n",
       "      dtype='object')"
      ]
     },
     "execution_count": 5,
     "metadata": {},
     "output_type": "execute_result"
    }
   ],
   "source": [
    "test.columns"
   ]
  },
  {
   "cell_type": "code",
   "execution_count": 6,
   "id": "2bc5507b-6833-44f9-937f-344fd78bccba",
   "metadata": {},
   "outputs": [],
   "source": [
    "\n",
    "newsc = newsc[['County', 'AJWANG RADING Total Votes', 'ANNA G. ESHOO Total Votes',\n",
    "               'BENJAMIN THOMAS SOLOMON Total Votes', 'GREG LIN TANAKA Total Votes', \n",
    "               'JOHN KARL FREDRICH Total Votes', 'PETER OHTAKI Total Votes', \n",
    "               'RICHARD B. FOX Total Votes', 'RISHI KUMAR Total Votes', \n",
    "               'TRAVIS ANDREW ODEKIRK Total Votes']]\n",
    "newsc.columns = newsc.columns.str.replace(' Total Votes', '')\n"
   ]
  },
  {
   "cell_type": "code",
   "execution_count": 7,
   "id": "9a2a577e-fb36-47cc-9b95-1aab1b99957a",
   "metadata": {},
   "outputs": [],
   "source": [
    "newsc.rename(columns = {'County': 'Precinct_name'}, inplace = True)"
   ]
  },
  {
   "cell_type": "code",
   "execution_count": 8,
   "id": "dc0cf65a-73a1-4b0a-97fd-bd7d354d1f8e",
   "metadata": {},
   "outputs": [],
   "source": [
    "result = pd.concat([test, newsc])"
   ]
  },
  {
   "cell_type": "code",
   "execution_count": 52,
   "id": "670a5b92-0312-4904-8b7e-dac65b31a6ff",
   "metadata": {},
   "outputs": [
    {
     "data": {
      "text/html": [
       "<div>\n",
       "<style scoped>\n",
       "    .dataframe tbody tr th:only-of-type {\n",
       "        vertical-align: middle;\n",
       "    }\n",
       "\n",
       "    .dataframe tbody tr th {\n",
       "        vertical-align: top;\n",
       "    }\n",
       "\n",
       "    .dataframe thead th {\n",
       "        text-align: right;\n",
       "    }\n",
       "</style>\n",
       "<table border=\"1\" class=\"dataframe\">\n",
       "  <thead>\n",
       "    <tr style=\"text-align: right;\">\n",
       "      <th></th>\n",
       "      <th>Precinct_name</th>\n",
       "      <th>AJWANG RADING</th>\n",
       "      <th>ANNA G. ESHOO</th>\n",
       "      <th>BENJAMIN THOMAS SOLOMON</th>\n",
       "      <th>GREG LIN TANAKA</th>\n",
       "      <th>JOHN KARL FREDRICH</th>\n",
       "      <th>PETER OHTAKI</th>\n",
       "      <th>RICHARD B. FOX</th>\n",
       "      <th>RISHI KUMAR</th>\n",
       "      <th>TRAVIS ANDREW ODEKIRK</th>\n",
       "    </tr>\n",
       "  </thead>\n",
       "  <tbody>\n",
       "    <tr>\n",
       "      <th>0</th>\n",
       "      <td>30001</td>\n",
       "      <td>22</td>\n",
       "      <td>320</td>\n",
       "      <td>10</td>\n",
       "      <td>32</td>\n",
       "      <td>7</td>\n",
       "      <td>141</td>\n",
       "      <td>51</td>\n",
       "      <td>61</td>\n",
       "      <td>0</td>\n",
       "    </tr>\n",
       "    <tr>\n",
       "      <th>1</th>\n",
       "      <td>30004</td>\n",
       "      <td>19</td>\n",
       "      <td>343</td>\n",
       "      <td>19</td>\n",
       "      <td>29</td>\n",
       "      <td>3</td>\n",
       "      <td>162</td>\n",
       "      <td>52</td>\n",
       "      <td>48</td>\n",
       "      <td>0</td>\n",
       "    </tr>\n",
       "    <tr>\n",
       "      <th>2</th>\n",
       "      <td>30006</td>\n",
       "      <td>19</td>\n",
       "      <td>275</td>\n",
       "      <td>10</td>\n",
       "      <td>27</td>\n",
       "      <td>1</td>\n",
       "      <td>123</td>\n",
       "      <td>40</td>\n",
       "      <td>46</td>\n",
       "      <td>0</td>\n",
       "    </tr>\n",
       "    <tr>\n",
       "      <th>3</th>\n",
       "      <td>33001</td>\n",
       "      <td>32</td>\n",
       "      <td>424</td>\n",
       "      <td>6</td>\n",
       "      <td>35</td>\n",
       "      <td>13</td>\n",
       "      <td>50</td>\n",
       "      <td>58</td>\n",
       "      <td>55</td>\n",
       "      <td>0</td>\n",
       "    </tr>\n",
       "    <tr>\n",
       "      <th>4</th>\n",
       "      <td>33003</td>\n",
       "      <td>5</td>\n",
       "      <td>222</td>\n",
       "      <td>3</td>\n",
       "      <td>16</td>\n",
       "      <td>7</td>\n",
       "      <td>39</td>\n",
       "      <td>21</td>\n",
       "      <td>41</td>\n",
       "      <td>0</td>\n",
       "    </tr>\n",
       "  </tbody>\n",
       "</table>\n",
       "</div>"
      ],
      "text/plain": [
       "   Precinct_name  AJWANG RADING  ANNA G. ESHOO  BENJAMIN THOMAS SOLOMON  \\\n",
       "0          30001             22            320                       10   \n",
       "1          30004             19            343                       19   \n",
       "2          30006             19            275                       10   \n",
       "3          33001             32            424                        6   \n",
       "4          33003              5            222                        3   \n",
       "\n",
       "   GREG LIN TANAKA  JOHN KARL FREDRICH  PETER OHTAKI  RICHARD B. FOX  \\\n",
       "0               32                   7           141              51   \n",
       "1               29                   3           162              52   \n",
       "2               27                   1           123              40   \n",
       "3               35                  13            50              58   \n",
       "4               16                   7            39              21   \n",
       "\n",
       "   RISHI KUMAR  TRAVIS ANDREW ODEKIRK  \n",
       "0           61                      0  \n",
       "1           48                      0  \n",
       "2           46                      0  \n",
       "3           55                      0  \n",
       "4           41                      0  "
      ]
     },
     "execution_count": 52,
     "metadata": {},
     "output_type": "execute_result"
    }
   ],
   "source": [
    "result.head()"
   ]
  },
  {
   "cell_type": "code",
   "execution_count": 57,
   "id": "928402cd-0f75-4e4f-a8c8-afaf23609f17",
   "metadata": {},
   "outputs": [
    {
     "data": {
      "text/html": [
       "<style  type=\"text/css\" >\n",
       "#T_75277_row0_col0,#T_75277_row1_col1,#T_75277_row2_col2,#T_75277_row3_col3,#T_75277_row4_col4,#T_75277_row5_col5,#T_75277_row6_col6,#T_75277_row7_col7,#T_75277_row8_col8{\n",
       "            background-color:  #b40426;\n",
       "            color:  #f1f1f1;\n",
       "        }#T_75277_row0_col1{\n",
       "            background-color:  #f6a283;\n",
       "            color:  #000000;\n",
       "        }#T_75277_row0_col2{\n",
       "            background-color:  #92b4fe;\n",
       "            color:  #000000;\n",
       "        }#T_75277_row0_col3,#T_75277_row3_col0{\n",
       "            background-color:  #f08b6e;\n",
       "            color:  #000000;\n",
       "        }#T_75277_row0_col4,#T_75277_row3_col2{\n",
       "            background-color:  #c7d7f0;\n",
       "            color:  #000000;\n",
       "        }#T_75277_row0_col5{\n",
       "            background-color:  #aac7fd;\n",
       "            color:  #000000;\n",
       "        }#T_75277_row0_col6,#T_75277_row6_col0{\n",
       "            background-color:  #6a8bef;\n",
       "            color:  #000000;\n",
       "        }#T_75277_row0_col7{\n",
       "            background-color:  #b5cdfa;\n",
       "            color:  #000000;\n",
       "        }#T_75277_row0_col8,#T_75277_row3_col8,#T_75277_row6_col8{\n",
       "            background-color:  #5470de;\n",
       "            color:  #000000;\n",
       "        }#T_75277_row1_col0,#T_75277_row7_col5{\n",
       "            background-color:  #f59f80;\n",
       "            color:  #000000;\n",
       "        }#T_75277_row1_col2,#T_75277_row7_col6{\n",
       "            background-color:  #f2cbb7;\n",
       "            color:  #000000;\n",
       "        }#T_75277_row1_col3{\n",
       "            background-color:  #f39778;\n",
       "            color:  #000000;\n",
       "        }#T_75277_row1_col4,#T_75277_row4_col6,#T_75277_row7_col1{\n",
       "            background-color:  #f5c2aa;\n",
       "            color:  #000000;\n",
       "        }#T_75277_row1_col5{\n",
       "            background-color:  #f5a081;\n",
       "            color:  #000000;\n",
       "        }#T_75277_row1_col6,#T_75277_row3_col5{\n",
       "            background-color:  #d9dce1;\n",
       "            color:  #000000;\n",
       "        }#T_75277_row1_col7{\n",
       "            background-color:  #f6bfa6;\n",
       "            color:  #000000;\n",
       "        }#T_75277_row1_col8{\n",
       "            background-color:  #5d7ce6;\n",
       "            color:  #000000;\n",
       "        }#T_75277_row2_col0{\n",
       "            background-color:  #8fb1fe;\n",
       "            color:  #000000;\n",
       "        }#T_75277_row2_col1,#T_75277_row3_col4,#T_75277_row4_col1{\n",
       "            background-color:  #efcebd;\n",
       "            color:  #000000;\n",
       "        }#T_75277_row2_col3{\n",
       "            background-color:  #c6d6f1;\n",
       "            color:  #000000;\n",
       "        }#T_75277_row2_col4{\n",
       "            background-color:  #f0cdbb;\n",
       "            color:  #000000;\n",
       "        }#T_75277_row2_col5{\n",
       "            background-color:  #f7aa8c;\n",
       "            color:  #000000;\n",
       "        }#T_75277_row2_col6,#T_75277_row6_col2{\n",
       "            background-color:  #f18f71;\n",
       "            color:  #000000;\n",
       "        }#T_75277_row2_col7,#T_75277_row6_col7{\n",
       "            background-color:  #f1ccb8;\n",
       "            color:  #000000;\n",
       "        }#T_75277_row2_col8{\n",
       "            background-color:  #506bda;\n",
       "            color:  #000000;\n",
       "        }#T_75277_row3_col1,#T_75277_row5_col7{\n",
       "            background-color:  #f49a7b;\n",
       "            color:  #000000;\n",
       "        }#T_75277_row3_col6,#T_75277_row6_col3{\n",
       "            background-color:  #bcd2f7;\n",
       "            color:  #000000;\n",
       "        }#T_75277_row3_col7,#T_75277_row7_col4{\n",
       "            background-color:  #edd2c3;\n",
       "            color:  #000000;\n",
       "        }#T_75277_row4_col0{\n",
       "            background-color:  #b7cff9;\n",
       "            color:  #000000;\n",
       "        }#T_75277_row4_col2{\n",
       "            background-color:  #ead5c9;\n",
       "            color:  #000000;\n",
       "        }#T_75277_row4_col3{\n",
       "            background-color:  #e8d6cc;\n",
       "            color:  #000000;\n",
       "        }#T_75277_row4_col5{\n",
       "            background-color:  #c4d5f3;\n",
       "            color:  #000000;\n",
       "        }#T_75277_row4_col7{\n",
       "            background-color:  #e4d9d2;\n",
       "            color:  #000000;\n",
       "        }#T_75277_row4_col8,#T_75277_row8_col0,#T_75277_row8_col1,#T_75277_row8_col2,#T_75277_row8_col3,#T_75277_row8_col4,#T_75277_row8_col5,#T_75277_row8_col6,#T_75277_row8_col7{\n",
       "            background-color:  #3b4cc0;\n",
       "            color:  #f1f1f1;\n",
       "        }#T_75277_row5_col0,#T_75277_row7_col0{\n",
       "            background-color:  #b6cefa;\n",
       "            color:  #000000;\n",
       "        }#T_75277_row5_col1{\n",
       "            background-color:  #f59d7e;\n",
       "            color:  #000000;\n",
       "        }#T_75277_row5_col2{\n",
       "            background-color:  #f6a385;\n",
       "            color:  #000000;\n",
       "        }#T_75277_row5_col3{\n",
       "            background-color:  #e1dad6;\n",
       "            color:  #000000;\n",
       "        }#T_75277_row5_col4{\n",
       "            background-color:  #dadce0;\n",
       "            color:  #000000;\n",
       "        }#T_75277_row5_col6{\n",
       "            background-color:  #f5c0a7;\n",
       "            color:  #000000;\n",
       "        }#T_75277_row5_col8{\n",
       "            background-color:  #6485ec;\n",
       "            color:  #000000;\n",
       "        }#T_75277_row6_col1{\n",
       "            background-color:  #d5dbe5;\n",
       "            color:  #000000;\n",
       "        }#T_75277_row6_col4{\n",
       "            background-color:  #f7b99e;\n",
       "            color:  #000000;\n",
       "        }#T_75277_row6_col5{\n",
       "            background-color:  #f4c6af;\n",
       "            color:  #000000;\n",
       "        }#T_75277_row7_col2{\n",
       "            background-color:  #f2cab5;\n",
       "            color:  #000000;\n",
       "        }#T_75277_row7_col3{\n",
       "            background-color:  #edd1c2;\n",
       "            color:  #000000;\n",
       "        }#T_75277_row7_col8{\n",
       "            background-color:  #5572df;\n",
       "            color:  #000000;\n",
       "        }</style><table id=\"T_75277_\" ><thead>    <tr>        <th class=\"blank level0\" ></th>        <th class=\"col_heading level0 col0\" >AJWANG RADING</th>        <th class=\"col_heading level0 col1\" >ANNA G. ESHOO</th>        <th class=\"col_heading level0 col2\" >BENJAMIN THOMAS SOLOMON</th>        <th class=\"col_heading level0 col3\" >GREG LIN TANAKA</th>        <th class=\"col_heading level0 col4\" >JOHN KARL FREDRICH</th>        <th class=\"col_heading level0 col5\" >PETER OHTAKI</th>        <th class=\"col_heading level0 col6\" >RICHARD B. FOX</th>        <th class=\"col_heading level0 col7\" >RISHI KUMAR</th>        <th class=\"col_heading level0 col8\" >TRAVIS ANDREW ODEKIRK</th>    </tr></thead><tbody>\n",
       "                <tr>\n",
       "                        <th id=\"T_75277_level0_row0\" class=\"row_heading level0 row0\" >AJWANG RADING</th>\n",
       "                        <td id=\"T_75277_row0_col0\" class=\"data row0 col0\" >1.000000</td>\n",
       "                        <td id=\"T_75277_row0_col1\" class=\"data row0 col1\" >0.744959</td>\n",
       "                        <td id=\"T_75277_row0_col2\" class=\"data row0 col2\" >0.283230</td>\n",
       "                        <td id=\"T_75277_row0_col3\" class=\"data row0 col3\" >0.791522</td>\n",
       "                        <td id=\"T_75277_row0_col4\" class=\"data row0 col4\" >0.395304</td>\n",
       "                        <td id=\"T_75277_row0_col5\" class=\"data row0 col5\" >0.391761</td>\n",
       "                        <td id=\"T_75277_row0_col6\" class=\"data row0 col6\" >0.182841</td>\n",
       "                        <td id=\"T_75277_row0_col7\" class=\"data row0 col7\" >0.391348</td>\n",
       "                        <td id=\"T_75277_row0_col8\" class=\"data row0 col8\" >0.037726</td>\n",
       "            </tr>\n",
       "            <tr>\n",
       "                        <th id=\"T_75277_level0_row1\" class=\"row_heading level0 row1\" >ANNA G. ESHOO</th>\n",
       "                        <td id=\"T_75277_row1_col0\" class=\"data row1 col0\" >0.744959</td>\n",
       "                        <td id=\"T_75277_row1_col1\" class=\"data row1 col1\" >1.000000</td>\n",
       "                        <td id=\"T_75277_row1_col2\" class=\"data row1 col2\" >0.610638</td>\n",
       "                        <td id=\"T_75277_row1_col3\" class=\"data row1 col3\" >0.764801</td>\n",
       "                        <td id=\"T_75277_row1_col4\" class=\"data row1 col4\" >0.611146</td>\n",
       "                        <td id=\"T_75277_row1_col5\" class=\"data row1 col5\" >0.755725</td>\n",
       "                        <td id=\"T_75277_row1_col6\" class=\"data row1 col6\" >0.505240</td>\n",
       "                        <td id=\"T_75277_row1_col7\" class=\"data row1 col7\" >0.656673</td>\n",
       "                        <td id=\"T_75277_row1_col8\" class=\"data row1 col8\" >0.065388</td>\n",
       "            </tr>\n",
       "            <tr>\n",
       "                        <th id=\"T_75277_level0_row2\" class=\"row_heading level0 row2\" >BENJAMIN THOMAS SOLOMON</th>\n",
       "                        <td id=\"T_75277_row2_col0\" class=\"data row2 col0\" >0.283230</td>\n",
       "                        <td id=\"T_75277_row2_col1\" class=\"data row2 col1\" >0.610638</td>\n",
       "                        <td id=\"T_75277_row2_col2\" class=\"data row2 col2\" >1.000000</td>\n",
       "                        <td id=\"T_75277_row2_col3\" class=\"data row2 col3\" >0.438940</td>\n",
       "                        <td id=\"T_75277_row2_col4\" class=\"data row2 col4\" >0.564421</td>\n",
       "                        <td id=\"T_75277_row2_col5\" class=\"data row2 col5\" >0.731960</td>\n",
       "                        <td id=\"T_75277_row2_col6\" class=\"data row2 col6\" >0.782734</td>\n",
       "                        <td id=\"T_75277_row2_col7\" class=\"data row2 col7\" >0.614261</td>\n",
       "                        <td id=\"T_75277_row2_col8\" class=\"data row2 col8\" >0.024812</td>\n",
       "            </tr>\n",
       "            <tr>\n",
       "                        <th id=\"T_75277_level0_row3\" class=\"row_heading level0 row3\" >GREG LIN TANAKA</th>\n",
       "                        <td id=\"T_75277_row3_col0\" class=\"data row3 col0\" >0.791522</td>\n",
       "                        <td id=\"T_75277_row3_col1\" class=\"data row3 col1\" >0.764801</td>\n",
       "                        <td id=\"T_75277_row3_col2\" class=\"data row3 col2\" >0.438940</td>\n",
       "                        <td id=\"T_75277_row3_col3\" class=\"data row3 col3\" >1.000000</td>\n",
       "                        <td id=\"T_75277_row3_col4\" class=\"data row3 col4\" >0.561429</td>\n",
       "                        <td id=\"T_75277_row3_col5\" class=\"data row3 col5\" >0.533283</td>\n",
       "                        <td id=\"T_75277_row3_col6\" class=\"data row3 col6\" >0.411914</td>\n",
       "                        <td id=\"T_75277_row3_col7\" class=\"data row3 col7\" >0.587728</td>\n",
       "                        <td id=\"T_75277_row3_col8\" class=\"data row3 col8\" >0.035405</td>\n",
       "            </tr>\n",
       "            <tr>\n",
       "                        <th id=\"T_75277_level0_row4\" class=\"row_heading level0 row4\" >JOHN KARL FREDRICH</th>\n",
       "                        <td id=\"T_75277_row4_col0\" class=\"data row4 col0\" >0.395304</td>\n",
       "                        <td id=\"T_75277_row4_col1\" class=\"data row4 col1\" >0.611146</td>\n",
       "                        <td id=\"T_75277_row4_col2\" class=\"data row4 col2\" >0.564421</td>\n",
       "                        <td id=\"T_75277_row4_col3\" class=\"data row4 col3\" >0.561429</td>\n",
       "                        <td id=\"T_75277_row4_col4\" class=\"data row4 col4\" >1.000000</td>\n",
       "                        <td id=\"T_75277_row4_col5\" class=\"data row4 col5\" >0.463250</td>\n",
       "                        <td id=\"T_75277_row4_col6\" class=\"data row4 col6\" >0.643330</td>\n",
       "                        <td id=\"T_75277_row4_col7\" class=\"data row4 col7\" >0.546998</td>\n",
       "                        <td id=\"T_75277_row4_col8\" class=\"data row4 col8\" >-0.052168</td>\n",
       "            </tr>\n",
       "            <tr>\n",
       "                        <th id=\"T_75277_level0_row5\" class=\"row_heading level0 row5\" >PETER OHTAKI</th>\n",
       "                        <td id=\"T_75277_row5_col0\" class=\"data row5 col0\" >0.391761</td>\n",
       "                        <td id=\"T_75277_row5_col1\" class=\"data row5 col1\" >0.755725</td>\n",
       "                        <td id=\"T_75277_row5_col2\" class=\"data row5 col2\" >0.731960</td>\n",
       "                        <td id=\"T_75277_row5_col3\" class=\"data row5 col3\" >0.533283</td>\n",
       "                        <td id=\"T_75277_row5_col4\" class=\"data row5 col4\" >0.463250</td>\n",
       "                        <td id=\"T_75277_row5_col5\" class=\"data row5 col5\" >1.000000</td>\n",
       "                        <td id=\"T_75277_row5_col6\" class=\"data row5 col6\" >0.652507</td>\n",
       "                        <td id=\"T_75277_row5_col7\" class=\"data row5 col7\" >0.760030</td>\n",
       "                        <td id=\"T_75277_row5_col8\" class=\"data row5 col8\" >0.088735</td>\n",
       "            </tr>\n",
       "            <tr>\n",
       "                        <th id=\"T_75277_level0_row6\" class=\"row_heading level0 row6\" >RICHARD B. FOX</th>\n",
       "                        <td id=\"T_75277_row6_col0\" class=\"data row6 col0\" >0.182841</td>\n",
       "                        <td id=\"T_75277_row6_col1\" class=\"data row6 col1\" >0.505240</td>\n",
       "                        <td id=\"T_75277_row6_col2\" class=\"data row6 col2\" >0.782734</td>\n",
       "                        <td id=\"T_75277_row6_col3\" class=\"data row6 col3\" >0.411914</td>\n",
       "                        <td id=\"T_75277_row6_col4\" class=\"data row6 col4\" >0.643330</td>\n",
       "                        <td id=\"T_75277_row6_col5\" class=\"data row6 col5\" >0.652507</td>\n",
       "                        <td id=\"T_75277_row6_col6\" class=\"data row6 col6\" >1.000000</td>\n",
       "                        <td id=\"T_75277_row6_col7\" class=\"data row6 col7\" >0.613478</td>\n",
       "                        <td id=\"T_75277_row6_col8\" class=\"data row6 col8\" >0.037353</td>\n",
       "            </tr>\n",
       "            <tr>\n",
       "                        <th id=\"T_75277_level0_row7\" class=\"row_heading level0 row7\" >RISHI KUMAR</th>\n",
       "                        <td id=\"T_75277_row7_col0\" class=\"data row7 col0\" >0.391348</td>\n",
       "                        <td id=\"T_75277_row7_col1\" class=\"data row7 col1\" >0.656673</td>\n",
       "                        <td id=\"T_75277_row7_col2\" class=\"data row7 col2\" >0.614261</td>\n",
       "                        <td id=\"T_75277_row7_col3\" class=\"data row7 col3\" >0.587728</td>\n",
       "                        <td id=\"T_75277_row7_col4\" class=\"data row7 col4\" >0.546998</td>\n",
       "                        <td id=\"T_75277_row7_col5\" class=\"data row7 col5\" >0.760030</td>\n",
       "                        <td id=\"T_75277_row7_col6\" class=\"data row7 col6\" >0.613478</td>\n",
       "                        <td id=\"T_75277_row7_col7\" class=\"data row7 col7\" >1.000000</td>\n",
       "                        <td id=\"T_75277_row7_col8\" class=\"data row7 col8\" >0.041444</td>\n",
       "            </tr>\n",
       "            <tr>\n",
       "                        <th id=\"T_75277_level0_row8\" class=\"row_heading level0 row8\" >TRAVIS ANDREW ODEKIRK</th>\n",
       "                        <td id=\"T_75277_row8_col0\" class=\"data row8 col0\" >0.037726</td>\n",
       "                        <td id=\"T_75277_row8_col1\" class=\"data row8 col1\" >0.065388</td>\n",
       "                        <td id=\"T_75277_row8_col2\" class=\"data row8 col2\" >0.024812</td>\n",
       "                        <td id=\"T_75277_row8_col3\" class=\"data row8 col3\" >0.035405</td>\n",
       "                        <td id=\"T_75277_row8_col4\" class=\"data row8 col4\" >-0.052168</td>\n",
       "                        <td id=\"T_75277_row8_col5\" class=\"data row8 col5\" >0.088735</td>\n",
       "                        <td id=\"T_75277_row8_col6\" class=\"data row8 col6\" >0.037353</td>\n",
       "                        <td id=\"T_75277_row8_col7\" class=\"data row8 col7\" >0.041444</td>\n",
       "                        <td id=\"T_75277_row8_col8\" class=\"data row8 col8\" >1.000000</td>\n",
       "            </tr>\n",
       "    </tbody></table>"
      ],
      "text/plain": [
       "<pandas.io.formats.style.Styler at 0x29c5e090c70>"
      ]
     },
     "execution_count": 57,
     "metadata": {},
     "output_type": "execute_result"
    }
   ],
   "source": [
    "corr = result.iloc[:,1:].corr()\n",
    "corr.style.background_gradient(cmap='coolwarm')"
   ]
  },
  {
   "cell_type": "markdown",
   "id": "9681fe19-7b14-4414-9787-bab514ec86d8",
   "metadata": {},
   "source": [
    "This plot essentially asks: if I see candidate A win a lot of votes, how likely is it that candidate B also won a lot of votes? \n",
    "One thing to garner from this plot is the party effect; If a democratic candidate earns more votes, so do the other democratic candidates, as well as vice versa.\n",
    "\n",
    "Furthermore, Anna Eshoo has correlations higher than 0.5 with every other candidate. Since the correlations are already adjusted for population, this probably just shows that no matter how other candidates perform, Anna Eshoo always succeeds, so she has a positive correlation with every candidate."
   ]
  },
  {
   "cell_type": "code",
   "execution_count": null,
   "id": "010a1c32-ca1b-4f2e-9ab9-652da1584b82",
   "metadata": {},
   "outputs": [],
   "source": []
  }
 ],
 "metadata": {
  "kernelspec": {
   "display_name": "Python 3 (ipykernel)",
   "language": "python",
   "name": "python3"
  },
  "language_info": {
   "codemirror_mode": {
    "name": "ipython",
    "version": 3
   },
   "file_extension": ".py",
   "mimetype": "text/x-python",
   "name": "python",
   "nbconvert_exporter": "python",
   "pygments_lexer": "ipython3",
   "version": "3.9.5"
  }
 },
 "nbformat": 4,
 "nbformat_minor": 5
}
