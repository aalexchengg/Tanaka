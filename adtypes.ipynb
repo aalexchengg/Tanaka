{
 "cells": [
  {
   "cell_type": "markdown",
   "id": "8a5d477b-68e9-47cf-a251-35fdad6ed2e6",
   "metadata": {},
   "source": [
    "# Ad Types"
   ]
  },
  {
   "cell_type": "code",
   "execution_count": 1,
   "id": "fe3c4373-7299-49df-94fb-8994281d3463",
   "metadata": {},
   "outputs": [],
   "source": [
    "import sys\n",
    "import os\n",
    "import pandas as pd\n",
    "import seaborn as sns\n",
    "import numpy as np\n",
    "import matplotlib.pyplot as plt"
   ]
  },
  {
   "cell_type": "markdown",
   "id": "dc710d15-d9e5-4790-87fe-71a4345ae88f",
   "metadata": {},
   "source": [
    "The big question in this report is, which Ad Type worked the best? Which ad would generate the most impressions, clicks, or views based on the money we put in?\n",
    "\n",
    "This report, is honestly just a lot of data cleaning, and then displaying cost effectiveness at the end, so bear with me as we go throug this report."
   ]
  },
  {
   "cell_type": "code",
   "execution_count": 2,
   "id": "ab08e646-eabb-4e1c-89ea-68180c543b90",
   "metadata": {},
   "outputs": [],
   "source": [
    "ytdf = pd.read_csv(\"data/ytdata_medium.csv\")\n",
    "fbdf = pd.read_csv(\"data/fbdata_medium.csv\")"
   ]
  },
  {
   "cell_type": "code",
   "execution_count": 3,
   "id": "f4e05bbe-6642-4d31-af95-1811b8b65387",
   "metadata": {},
   "outputs": [
    {
     "name": "stdout",
     "output_type": "stream",
     "text": [
      "<class 'pandas.core.frame.DataFrame'>\n",
      "RangeIndex: 122 entries, 0 to 121\n",
      "Data columns (total 36 columns):\n",
      " #   Column                   Non-Null Count  Dtype  \n",
      "---  ------                   --------------  -----  \n",
      " 0   Final URL                122 non-null    object \n",
      " 1   Headline                 122 non-null    object \n",
      " 2   Long headline            122 non-null    object \n",
      " 3   Headline 1               122 non-null    object \n",
      " 4   Headline 2               122 non-null    object \n",
      " 5   Headline 3               122 non-null    object \n",
      " 6   Headline 4               122 non-null    object \n",
      " 7   Headline 5               122 non-null    object \n",
      " 8   Headline 6               122 non-null    object \n",
      " 9   Headline 7               122 non-null    object \n",
      " 10  Headline 8               122 non-null    object \n",
      " 11  Headline 9               122 non-null    object \n",
      " 12  Headline 10              122 non-null    object \n",
      " 13  Headline 11              122 non-null    object \n",
      " 14  Headline 12              122 non-null    object \n",
      " 15  Headline 13              122 non-null    object \n",
      " 16  Headline 14              122 non-null    object \n",
      " 17  Headline 15              122 non-null    object \n",
      " 18  Description 1            122 non-null    object \n",
      " 19  Description 2            122 non-null    object \n",
      " 20  Description 3            122 non-null    object \n",
      " 21  Description 4            122 non-null    object \n",
      " 22  Business name            122 non-null    object \n",
      " 23  Call to action text      122 non-null    object \n",
      " 24  Call to action headline  122 non-null    object \n",
      " 25  Ad name                  122 non-null    object \n",
      " 26  Path 1                   122 non-null    object \n",
      " 27  Path 2                   122 non-null    object \n",
      " 28  Ad relevance             122 non-null    object \n",
      " 29  Currency code            122 non-null    object \n",
      " 30  Clicks                   122 non-null    object \n",
      " 31  Impr.                    122 non-null    object \n",
      " 32  Views                    122 non-null    object \n",
      " 33  Avg. cost                122 non-null    object \n",
      " 34  Cost                     122 non-null    float64\n",
      " 35  Format                   122 non-null    object \n",
      "dtypes: float64(1), object(35)\n",
      "memory usage: 34.4+ KB\n"
     ]
    }
   ],
   "source": [
    "ytdf.info()"
   ]
  },
  {
   "cell_type": "code",
   "execution_count": 4,
   "id": "6e6d67ef-5f6a-40ae-9e6e-ed948295390a",
   "metadata": {},
   "outputs": [
    {
     "name": "stdout",
     "output_type": "stream",
     "text": [
      "<class 'pandas.core.frame.DataFrame'>\n",
      "RangeIndex: 3 entries, 0 to 2\n",
      "Data columns (total 18 columns):\n",
      " #   Column                            Non-Null Count  Dtype  \n",
      "---  ------                            --------------  -----  \n",
      " 0   Ad name                           3 non-null      object \n",
      " 1   Delivery status                   3 non-null      object \n",
      " 2   Delivery level                    3 non-null      object \n",
      " 3   Reach                             3 non-null      int64  \n",
      " 4   Impressions                       3 non-null      int64  \n",
      " 5   Frequency                         3 non-null      float64\n",
      " 6   Attribution setting               3 non-null      object \n",
      " 7   Result type                       3 non-null      object \n",
      " 8   Results                           3 non-null      int64  \n",
      " 9   Amount spent (USD)                3 non-null      float64\n",
      " 10  Cost per result                   3 non-null      float64\n",
      " 11  Starts                            3 non-null      object \n",
      " 12  Ends                              3 non-null      object \n",
      " 13  CPC (cost per link click)         3 non-null      float64\n",
      " 14  CPM (cost per 1,000 impressions)  3 non-null      float64\n",
      " 15  CTR (all)                         3 non-null      float64\n",
      " 16  Reporting starts                  3 non-null      object \n",
      " 17  Reporting ends                    3 non-null      object \n",
      "dtypes: float64(6), int64(3), object(9)\n",
      "memory usage: 560.0+ bytes\n"
     ]
    }
   ],
   "source": [
    "fbdf.info()"
   ]
  },
  {
   "cell_type": "code",
   "execution_count": 5,
   "id": "06cfba47-7819-4763-a2ca-efa525746788",
   "metadata": {},
   "outputs": [],
   "source": [
    "#sanitize\n",
    "valid = '1234567890.' #valid characters for a float\n",
    "def sanitize(data):\n",
    "    if(data== \" --\"):\n",
    "        return np.nan\n",
    "    return float(''.join(filter(lambda char: char in valid, data)))\n",
    "\n",
    "ytdf['Clicks'] = ytdf['Clicks'].apply(sanitize)\n",
    "ytdf['Impr.'] = ytdf['Impr.'].apply(sanitize)\n",
    "ytdf['Views'] = ytdf['Views'].apply(sanitize)"
   ]
  },
  {
   "cell_type": "code",
   "execution_count": 6,
   "id": "2353847d-0895-4e3f-811b-0186015c4ab3",
   "metadata": {},
   "outputs": [
    {
     "name": "stdout",
     "output_type": "stream",
     "text": [
      "<class 'pandas.core.frame.DataFrame'>\n",
      "RangeIndex: 122 entries, 0 to 121\n",
      "Data columns (total 36 columns):\n",
      " #   Column                   Non-Null Count  Dtype  \n",
      "---  ------                   --------------  -----  \n",
      " 0   Final URL                122 non-null    object \n",
      " 1   Headline                 122 non-null    object \n",
      " 2   Long headline            122 non-null    object \n",
      " 3   Headline 1               122 non-null    object \n",
      " 4   Headline 2               122 non-null    object \n",
      " 5   Headline 3               122 non-null    object \n",
      " 6   Headline 4               122 non-null    object \n",
      " 7   Headline 5               122 non-null    object \n",
      " 8   Headline 6               122 non-null    object \n",
      " 9   Headline 7               122 non-null    object \n",
      " 10  Headline 8               122 non-null    object \n",
      " 11  Headline 9               122 non-null    object \n",
      " 12  Headline 10              122 non-null    object \n",
      " 13  Headline 11              122 non-null    object \n",
      " 14  Headline 12              122 non-null    object \n",
      " 15  Headline 13              122 non-null    object \n",
      " 16  Headline 14              122 non-null    object \n",
      " 17  Headline 15              122 non-null    object \n",
      " 18  Description 1            122 non-null    object \n",
      " 19  Description 2            122 non-null    object \n",
      " 20  Description 3            122 non-null    object \n",
      " 21  Description 4            122 non-null    object \n",
      " 22  Business name            122 non-null    object \n",
      " 23  Call to action text      122 non-null    object \n",
      " 24  Call to action headline  122 non-null    object \n",
      " 25  Ad name                  122 non-null    object \n",
      " 26  Path 1                   122 non-null    object \n",
      " 27  Path 2                   122 non-null    object \n",
      " 28  Ad relevance             122 non-null    object \n",
      " 29  Currency code            122 non-null    object \n",
      " 30  Clicks                   122 non-null    float64\n",
      " 31  Impr.                    122 non-null    float64\n",
      " 32  Views                    122 non-null    float64\n",
      " 33  Avg. cost                122 non-null    object \n",
      " 34  Cost                     122 non-null    float64\n",
      " 35  Format                   122 non-null    object \n",
      "dtypes: float64(4), object(32)\n",
      "memory usage: 34.4+ KB\n"
     ]
    }
   ],
   "source": [
    "ytdf.info()"
   ]
  },
  {
   "cell_type": "code",
   "execution_count": 7,
   "id": "d7658239-7d56-493b-bce0-1851fcd5f2e6",
   "metadata": {},
   "outputs": [
    {
     "name": "stdout",
     "output_type": "stream",
     "text": [
      "<class 'pandas.core.frame.DataFrame'>\n",
      "Index: 2 entries, text to video\n",
      "Data columns (total 4 columns):\n",
      " #   Column  Non-Null Count  Dtype  \n",
      "---  ------  --------------  -----  \n",
      " 0   Clicks  2 non-null      float64\n",
      " 1   Impr.   2 non-null      float64\n",
      " 2   Views   2 non-null      float64\n",
      " 3   Cost    2 non-null      float64\n",
      "dtypes: float64(4)\n",
      "memory usage: 80.0+ bytes\n"
     ]
    }
   ],
   "source": [
    "ytdf = ytdf.groupby(\"Format\").sum()\n",
    "ytdf.info()"
   ]
  },
  {
   "cell_type": "raw",
   "id": "993c57a5-7474-483c-ac08-cf6b69f0d5af",
   "metadata": {},
   "source": [
    "ytdf.head()"
   ]
  },
  {
   "cell_type": "code",
   "execution_count": 8,
   "id": "50cc957e-fc39-467a-8015-691c9b535710",
   "metadata": {},
   "outputs": [],
   "source": [
    "def cpc(row):\n",
    "    if(row['Clicks']==0):\n",
    "        return -1 \n",
    "    return row['Cost']/row['Clicks']\n",
    "\n",
    "def cpm(row):\n",
    "    if(row['Impr.']==0):\n",
    "        return -1 \n",
    "    return row['Cost']/(row['Impr.']/1000)\n",
    "\n",
    "def cpv(row):\n",
    "    if(row['Views']==0):\n",
    "        return -1 \n",
    "    return row['Cost']/row['Views']\n",
    "\n",
    "def ctr(row):\n",
    "    if(row['Impr.']==0):\n",
    "        return -1 \n",
    "    return row['Clicks']/row['Impr.']\n",
    "\n",
    "def cpcv(row):\n",
    "    if(row['Conversions']==0):\n",
    "        return -1 \n",
    "    return row['Cost']/row['Conversions']\n",
    "\n",
    "\n",
    "ytdf['CPC'] = ytdf.apply(lambda row: cpc(row), axis=1)\n",
    "ytdf['CPM'] = ytdf.apply(lambda row: cpm(row), axis=1)\n",
    "ytdf['CPV'] = ytdf.apply(lambda row: cpv(row), axis=1)\n",
    "ytdf['CTR'] = ytdf.apply(lambda row: ctr(row), axis=1)\n",
    "ytdf = ytdf.reset_index(level=0)"
   ]
  },
  {
   "cell_type": "markdown",
   "id": "59c1cb3c-32f8-4241-8d7f-86a4b6f6b205",
   "metadata": {},
   "source": [
    "## Look Here!"
   ]
  },
  {
   "cell_type": "markdown",
   "id": "57188668-fd0c-44e4-a9d8-6651edfe20e0",
   "metadata": {},
   "source": [
    "This is our first big comparison; **did text ads or video ads do better**?\n",
    "As you can see, the CPC for text ads were much lower, but the CPM for video ads were significantly lower. Depending on which metric you value more for your campaign, you can come to two very different conclusions, or find somewhere in between."
   ]
  },
  {
   "cell_type": "code",
   "execution_count": 9,
   "id": "10ae7415-e4fa-4f03-8fc5-d79df84a8d7f",
   "metadata": {},
   "outputs": [
    {
     "data": {
      "text/html": [
       "<div>\n",
       "<style scoped>\n",
       "    .dataframe tbody tr th:only-of-type {\n",
       "        vertical-align: middle;\n",
       "    }\n",
       "\n",
       "    .dataframe tbody tr th {\n",
       "        vertical-align: top;\n",
       "    }\n",
       "\n",
       "    .dataframe thead th {\n",
       "        text-align: right;\n",
       "    }\n",
       "</style>\n",
       "<table border=\"1\" class=\"dataframe\">\n",
       "  <thead>\n",
       "    <tr style=\"text-align: right;\">\n",
       "      <th></th>\n",
       "      <th>Format</th>\n",
       "      <th>Clicks</th>\n",
       "      <th>Impr.</th>\n",
       "      <th>Views</th>\n",
       "      <th>Cost</th>\n",
       "      <th>CPC</th>\n",
       "      <th>CPM</th>\n",
       "      <th>CPV</th>\n",
       "      <th>CTR</th>\n",
       "    </tr>\n",
       "  </thead>\n",
       "  <tbody>\n",
       "    <tr>\n",
       "      <th>0</th>\n",
       "      <td>text</td>\n",
       "      <td>1047.0</td>\n",
       "      <td>17449.0</td>\n",
       "      <td>0.0</td>\n",
       "      <td>2530.86</td>\n",
       "      <td>2.417249</td>\n",
       "      <td>145.043269</td>\n",
       "      <td>-1.000000</td>\n",
       "      <td>0.060003</td>\n",
       "    </tr>\n",
       "    <tr>\n",
       "      <th>1</th>\n",
       "      <td>video</td>\n",
       "      <td>6457.0</td>\n",
       "      <td>2310036.0</td>\n",
       "      <td>286489.0</td>\n",
       "      <td>41267.55</td>\n",
       "      <td>6.391134</td>\n",
       "      <td>17.864462</td>\n",
       "      <td>0.144046</td>\n",
       "      <td>0.002795</td>\n",
       "    </tr>\n",
       "  </tbody>\n",
       "</table>\n",
       "</div>"
      ],
      "text/plain": [
       "  Format  Clicks      Impr.     Views      Cost       CPC         CPM  \\\n",
       "0   text  1047.0    17449.0       0.0   2530.86  2.417249  145.043269   \n",
       "1  video  6457.0  2310036.0  286489.0  41267.55  6.391134   17.864462   \n",
       "\n",
       "        CPV       CTR  \n",
       "0 -1.000000  0.060003  \n",
       "1  0.144046  0.002795  "
      ]
     },
     "execution_count": 9,
     "metadata": {},
     "output_type": "execute_result"
    }
   ],
   "source": [
    "ytdf.head()"
   ]
  },
  {
   "cell_type": "markdown",
   "id": "67a541fe-0545-4196-81b7-35602f252056",
   "metadata": {},
   "source": [
    "We will also plot it out for you to visualize the difference in CPC and CPM"
   ]
  },
  {
   "cell_type": "code",
   "execution_count": 10,
   "id": "ab2e8f17-fc69-4fe7-af1f-a61687984af1",
   "metadata": {},
   "outputs": [
    {
     "data": {
      "image/png": "[encoded data removed]",
      "text/plain": [
       "<Figure size 432x288 with 1 Axes>"
      ]
     },
     "metadata": {
      "needs_background": "light"
     },
     "output_type": "display_data"
    }
   ],
   "source": [
    "fig, ax = plt.subplots()\n",
    "\n",
    "ax = sns.barplot(x = \"Format\", y = \"CPC\", data = ytdf)\n"
   ]
  },
  {
   "cell_type": "code",
   "execution_count": 11,
   "id": "2d1ba92e-bb18-4000-a245-a5c890bbcf56",
   "metadata": {},
   "outputs": [
    {
     "data": {
      "image/png": "[encoded data removed]",
      "text/plain": [
       "<Figure size 432x288 with 1 Axes>"
      ]
     },
     "metadata": {
      "needs_background": "light"
     },
     "output_type": "display_data"
    }
   ],
   "source": [
    "ax = sns.barplot(x = \"Format\", y = \"CPM\", data = ytdf)"
   ]
  },
  {
   "cell_type": "code",
   "execution_count": 12,
   "id": "7d968413-2ea5-4e92-b1a5-306397d401ec",
   "metadata": {},
   "outputs": [
    {
     "data": {
      "image/png": "[encoded data removed]",
      "text/plain": [
       "<Figure size 432x288 with 1 Axes>"
      ]
     },
     "metadata": {
      "needs_background": "light"
     },
     "output_type": "display_data"
    }
   ],
   "source": [
    "ax = sns.barplot(x = \"Format\", y = \"CTR\", data = ytdf)"
   ]
  },
  {
   "cell_type": "code",
   "execution_count": 13,
   "id": "81f6be12-82cd-44c6-83ba-86187f4e55b3",
   "metadata": {},
   "outputs": [],
   "source": [
    "ytdf2 = pd.read_csv(\"data/yt_network_condensed.csv\")"
   ]
  },
  {
   "cell_type": "code",
   "execution_count": 14,
   "id": "8ce65f9a-bd88-479d-9ba4-e7e3ad1c84bd",
   "metadata": {},
   "outputs": [
    {
     "name": "stdout",
     "output_type": "stream",
     "text": [
      "<class 'pandas.core.frame.DataFrame'>\n",
      "RangeIndex: 6 entries, 0 to 5\n",
      "Data columns (total 21 columns):\n",
      " #   Column                          Non-Null Count  Dtype  \n",
      "---  ------                          --------------  -----  \n",
      " 0   Network (with search partners)  6 non-null      object \n",
      " 1   Campaign status                 6 non-null      object \n",
      " 2   Campaign                        0 non-null      float64\n",
      " 3   Budget name                     0 non-null      float64\n",
      " 4   Currency code                   6 non-null      object \n",
      " 5   Budget                          0 non-null      float64\n",
      " 6   Budget type                     0 non-null      float64\n",
      " 7   Status                          0 non-null      float64\n",
      " 8   Status reasons                  0 non-null      float64\n",
      " 9   Optimization score              0 non-null      float64\n",
      " 10  Campaign type                   0 non-null      float64\n",
      " 11  Avg. CPM                        6 non-null      object \n",
      " 12  Cost                            6 non-null      float64\n",
      " 13  Impr.                           6 non-null      object \n",
      " 14  Interactions                    6 non-null      object \n",
      " 15  Interaction rate                6 non-null      object \n",
      " 16  Avg. cost                       6 non-null      object \n",
      " 17  Conversions                     6 non-null      float64\n",
      " 18  Cost / conv.                    6 non-null      float64\n",
      " 19  Conv. rate                      6 non-null      object \n",
      " 20  Bid strategy type               0 non-null      float64\n",
      "dtypes: float64(12), object(9)\n",
      "memory usage: 1.1+ KB\n"
     ]
    }
   ],
   "source": [
    "ytdf2.info()"
   ]
  },
  {
   "cell_type": "code",
   "execution_count": 15,
   "id": "7aefeb98-6dc1-493f-bf64-dc4de63687b3",
   "metadata": {},
   "outputs": [],
   "source": [
    "#sanitize\n",
    "valid = '1234567890.' #valid characters for a float\n",
    "def sanitize(data):\n",
    "    if(data== \" --\"):\n",
    "        return np.nan\n",
    "    return float(''.join(filter(lambda char: char in valid, data)))\n",
    "\n",
    "ytdf2['Impr.'] = ytdf2['Impr.'].apply(sanitize)\n",
    "ytdf2['Interactions'] = ytdf2['Interactions'].apply(sanitize)"
   ]
  },
  {
   "cell_type": "code",
   "execution_count": 16,
   "id": "35fb7d5f-971a-42f3-ad8e-f73dcfd96b64",
   "metadata": {},
   "outputs": [],
   "source": [
    "ytdf2 = ytdf2.groupby(\"Network (with search partners)\").sum()\n",
    "ytdf2 = ytdf2[[\"Cost\", \"Impr.\", \"Interactions\", \"Conversions\"]]"
   ]
  },
  {
   "cell_type": "code",
   "execution_count": 17,
   "id": "26851262-57a1-4640-9184-a4ce3a8a9c46",
   "metadata": {},
   "outputs": [],
   "source": [
    "ytdf2['CPM'] = ytdf2.apply(lambda row: cpm(row), axis=1)\n",
    "ytdf2['Cost/Conv.'] = ytdf2.apply(lambda row: cpcv(row), axis=1)\n",
    "ytdf2 = ytdf2.reset_index(level=0)"
   ]
  },
  {
   "cell_type": "markdown",
   "id": "d648cf0a-e725-4b6f-8b68-04bb78b363c9",
   "metadata": {},
   "source": [
    "## A More Detailed Look At Things"
   ]
  },
  {
   "cell_type": "markdown",
   "id": "11df7e73-cad6-44ea-addd-dd8969f7fc89",
   "metadata": {},
   "source": [
    "Here, we not only compare text and video, but also how exactly the ads are displayed. In the dataframe below, you can see the 5 different ways our ads were distributed, as well as their impressions, interactions, costs, etc."
   ]
  },
  {
   "cell_type": "code",
   "execution_count": 18,
   "id": "6d236f6a-6cbe-4607-b4b2-8c70f1007afb",
   "metadata": {},
   "outputs": [
    {
     "name": "stdout",
     "output_type": "stream",
     "text": [
      "  Network (with search partners)      Cost      Impr.  Interactions  \\\n",
      "0                  Cross-network      0.00        0.0           0.0   \n",
      "1         Google Display Network  27495.22  9498645.0      191515.0   \n",
      "2                  Google search   2509.74    15504.0        1036.0   \n",
      "3                Search partners     21.12     1945.0          11.0   \n",
      "4                 YouTube Search      0.13       81.0           3.0   \n",
      "5                 YouTube Videos  41141.77  2297150.0      579811.0   \n",
      "\n",
      "   Conversions         CPM  Cost/Conv.  \n",
      "0         0.00   -1.000000   -1.000000  \n",
      "1        98.58    2.894647  278.912761  \n",
      "2       242.42  161.876935   10.352859  \n",
      "3         2.00   10.858612   10.560000  \n",
      "4         0.00    1.604938   -1.000000  \n",
      "5        84.00   17.909919  489.782976  \n"
     ]
    }
   ],
   "source": [
    "with pd.option_context('display.max_rows', None, 'display.max_columns', None):  # more options can be specified also\n",
    "    print(ytdf2)"
   ]
  },
  {
   "cell_type": "markdown",
   "id": "3a3e88d5-337e-4807-bc0a-26f1e851f466",
   "metadata": {},
   "source": [
    "As always, we will create graphs for CPC and CPM so that it is easier for you to visualize the differences.\n",
    "To interpret this graph, the lower the bar is, the better it does, since there is a much lower cost.\n",
    "\n",
    "As you can tell, Google Search does *terribly* for CPM, but it also has the best Cost/Conv.\n",
    "On the flip side, Google Display has the best CPM out of those that have a valid Const/Conv., but its Const/Conv. is abominable.\n",
    "\n",
    "YouTube Videos had both a high CPM and Const/Conv. :("
   ]
  },
  {
   "cell_type": "code",
   "execution_count": 20,
   "id": "b03b0180-832b-4ed4-b723-0b00ec0df31e",
   "metadata": {},
   "outputs": [
    {
     "data": {
      "image/png": "[encoded data removed]",
      "text/plain": [
       "<Figure size 1440x576 with 1 Axes>"
      ]
     },
     "metadata": {},
     "output_type": "display_data"
    }
   ],
   "source": [
    "fig2, ax2 = plt.subplots()\n",
    "sns.set(rc = {'figure.figsize':(20,8)})\n",
    "ax2 = sns.barplot(x = \"Network (with search partners)\", y = \"CPM\", data = ytdf2)"
   ]
  },
  {
   "cell_type": "code",
   "execution_count": 21,
   "id": "06df6716-8b7d-4d73-942e-c4d27b65fde8",
   "metadata": {},
   "outputs": [
    {
     "data": {
      "image/png": "[encoded data removed]",
      "text/plain": [
       "<Figure size 1440x576 with 1 Axes>"
      ]
     },
     "metadata": {},
     "output_type": "display_data"
    }
   ],
   "source": [
    "ax2 = sns.barplot(x = \"Network (with search partners)\", y = \"Cost/Conv.\", data = ytdf2)"
   ]
  }
 ],
 "metadata": {
  "kernelspec": {
   "display_name": "Python 3 (ipykernel)",
   "language": "python",
   "name": "python3"
  },
  "language_info": {
   "codemirror_mode": {
    "name": "ipython",
    "version": 3
   },
   "file_extension": ".py",
   "mimetype": "text/x-python",
   "name": "python",
   "nbconvert_exporter": "python",
   "pygments_lexer": "ipython3",
   "version": "3.9.5"
  }
 },
 "nbformat": 4,
 "nbformat_minor": 5
}
