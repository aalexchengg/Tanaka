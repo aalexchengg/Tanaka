{
 "cells": [
  {
   "cell_type": "markdown",
   "id": "a593c72b-c483-4127-bcfc-750f46bf5450",
   "metadata": {},
   "source": [
    "# Google Sources and its Effects on Votes"
   ]
  },
  {
   "cell_type": "markdown",
   "id": "af59fa60-42fe-46ba-a915-5988529e368a",
   "metadata": {},
   "source": [
    "In this report, our big question will be: did the way people interact with our campaign materials influence how they voted? Specifically, was there a correlation between when we put efforts into marketing, and how citizens voted?"
   ]
  },
  {
   "cell_type": "code",
   "execution_count": 10,
   "id": "8cc74373-8e72-4897-9408-d309a35fa85e",
   "metadata": {},
   "outputs": [],
   "source": [
    "import pandas as pd\n",
    "import seaborn as sns\n",
    "import os\n",
    "import sys\n",
    "import matplotlib.pyplot as plt\n",
    "import numpy as np\n",
    "import scipy.stats as st"
   ]
  },
  {
   "cell_type": "code",
   "execution_count": 16,
   "id": "3cae3e86-3b58-4019-a818-54937d735d24",
   "metadata": {},
   "outputs": [
    {
     "data": {
      "text/plain": [
       "1001"
      ]
     },
     "execution_count": 16,
     "metadata": {},
     "output_type": "execute_result"
    }
   ],
   "source": [
    "bigdf = pd.read_csv(\"data/source_medium_ganalytics.csv\")\n",
    "len(bigdf.index)"
   ]
  },
  {
   "cell_type": "code",
   "execution_count": 17,
   "id": "6e9c3b9d-a0e0-4ac5-8e1a-7ffd61568564",
   "metadata": {},
   "outputs": [
    {
     "name": "stdout",
     "output_type": "stream",
     "text": [
      "<class 'pandas.core.frame.DataFrame'>\n",
      "RangeIndex: 1001 entries, 0 to 1000\n",
      "Data columns (total 13 columns):\n",
      " #   Column                              Non-Null Count  Dtype  \n",
      "---  ------                              --------------  -----  \n",
      " 0   City                                1000 non-null   object \n",
      " 1   Source / Medium                     1000 non-null   object \n",
      " 2   Users                               1001 non-null   int64  \n",
      " 3   New Users                           1001 non-null   int64  \n",
      " 4   Sessions                            1001 non-null   int64  \n",
      " 5   Bounce Rate                         1001 non-null   object \n",
      " 6   Pages / Session                     1001 non-null   float64\n",
      " 7   Avg. Session Duration               1001 non-null   float64\n",
      " 8   Donations (Goal 1 Conversion Rate)  1001 non-null   object \n",
      " 9   Donations (Goal 1 Completions)      1001 non-null   int64  \n",
      " 10  Donations (Goal 1 Value)            1001 non-null   float64\n",
      " 11  Source                              1000 non-null   object \n",
      " 12  Medium                              1000 non-null   object \n",
      "dtypes: float64(3), int64(4), object(6)\n",
      "memory usage: 101.8+ KB\n"
     ]
    }
   ],
   "source": [
    "bigdf.info()"
   ]
  },
  {
   "cell_type": "markdown",
   "id": "5728c18f-2959-4832-a5e5-929aa234bfd5",
   "metadata": {},
   "source": [
    "Our DataFrame here essentially divides Impressions into two categories: the city in which it came from, and the source/medium it came from. For example, we would be examining Google searches from Woodside compared to Google searches from Stanford, as well as YouTube searches from Stanford."
   ]
  },
  {
   "cell_type": "code",
   "execution_count": 18,
   "id": "0add49aa-8be4-4ea3-8c72-61b85a5f2487",
   "metadata": {},
   "outputs": [],
   "source": [
    "cities = ['Woodside', 'Stanford', 'San Gregorio', 'Portola Valley', 'Pescadero', 'Palo Alto',\n",
    "          'Pacifica', 'Menlo Park', 'Moss Beach', 'Montara', 'Monte Sereno', 'Loma Mar', \n",
    "          'Ladera' 'Los Gatos', 'Los Altos', 'Los Altos Hills', 'La Honda', 'Half Moon Bay',\n",
    "          'El Granada', 'Campbell', 'Atherton', 'San Jose']\n",
    "bigdf = bigdf[bigdf['City'].isin(cities)]"
   ]
  },
  {
   "cell_type": "markdown",
   "id": "8339a3c7-6534-4b61-af09-abe98e6e1085",
   "metadata": {},
   "source": [
    "Since only cities in the cities list are able to vote, we will focus only on these geographic areas"
   ]
  },
  {
   "cell_type": "code",
   "execution_count": 19,
   "id": "0becf8d6-70a4-47fb-a488-232f6bd2951b",
   "metadata": {},
   "outputs": [
    {
     "data": {
      "text/plain": [
       "141"
      ]
     },
     "execution_count": 19,
     "metadata": {},
     "output_type": "execute_result"
    }
   ],
   "source": [
    "len(bigdf.index)"
   ]
  },
  {
   "cell_type": "code",
   "execution_count": 20,
   "id": "160306cb-610f-4a69-b34f-59e75b84454f",
   "metadata": {},
   "outputs": [
    {
     "name": "stdout",
     "output_type": "stream",
     "text": [
      "['cpc' 'organic' 'none' 'referral' 'txt' 'email']\n"
     ]
    }
   ],
   "source": [
    "sources = pd.unique(bigdf['Source'])\n",
    "print(sources)"
   ]
  },
  {
   "cell_type": "code",
   "execution_count": 45,
   "id": "cccb185e-a634-4a2f-adf0-8bbf3c31d26a",
   "metadata": {},
   "outputs": [],
   "source": [
    "cpcdf = bigdf[bigdf['Source']=='cpc']\n",
    "orgdf = bigdf[bigdf['Source']=='organic']\n",
    "refdf = bigdf[bigdf['Source']=='referral']\n",
    "txtdf = bigdf[bigdf['Source']=='txt']\n",
    "emdf = bigdf[bigdf['Source']=='email']\n",
    "#dfs = [cpcdf, orgdf, refdf, txtdf, emdf]"
   ]
  },
  {
   "cell_type": "markdown",
   "id": "411d42d8-19a6-4a3c-a40f-d1859c87b3d6",
   "metadata": {},
   "source": [
    "We then split the dataframe into each source, so that we can examine each source by itself.\n",
    "Afterwards, we create a new metric dubbed Impressions/Voter, so that we can control for different population sizes."
   ]
  },
  {
   "cell_type": "code",
   "execution_count": 54,
   "id": "1bb341fc-e3cd-4843-968d-be3230a11755",
   "metadata": {},
   "outputs": [
    {
     "name": "stdout",
     "output_type": "stream",
     "text": [
      "cpc\n",
      "Pearsonr correlation for x,y = 0.409\n",
      "\n",
      "\n",
      "organic\n",
      "Pearsonr correlation for x,y = 0.451\n",
      "\n",
      "\n",
      "referral\n",
      "Pearsonr correlation for x,y = 0.335\n",
      "\n",
      "\n",
      "txt\n",
      "ONLY ONE DATA POINT.\n",
      "\n",
      "\n",
      "email\n",
      "ONLY ONE DATA POINT.\n",
      "\n",
      "\n"
     ]
    },
    {
     "data": {
      "image/png": "[encoded data removed]",
      "text/plain": [
       "<Figure size 432x288 with 3 Axes>"
      ]
     },
     "metadata": {
      "needs_background": "light"
     },
     "output_type": "display_data"
    }
   ],
   "source": [
    "fig, (ax1, ax2, ax3) = plt.subplots(nrows=3)\n",
    "#create the plot\n",
    "\n",
    "dfs = {'cpc': [cpcdf, ax1], \n",
    "       'organic': [orgdf, ax2],\n",
    "       'referral': [refdf, ax3], \n",
    "       'txt': [txtdf], \n",
    "       'email': [emdf]}\n",
    "votedf = pd.read_csv(\"data/fullcity_votes.csv\")\n",
    "for key, value in dfs.items():\n",
    "    df = value[0]\n",
    "    print(key)\n",
    "    df = df.groupby(\"City\").sum()\n",
    "    #group by city\n",
    "    \n",
    "    \n",
    "    df = pd.merge(left = df, right = votedf, on = ['City'])\n",
    "    def odds(row):\n",
    "        return row['Percentage']/(1-row['Percentage'])\n",
    "    def ratio(row):\n",
    "        return row['Users']/row['Total']\n",
    "    df['Odds'] = df.apply(lambda row: odds(row), axis=1)\n",
    "    df['Impr/Voter'] = df.apply(lambda row: ratio(row), axis=1)\n",
    "    #calculate ratios based on populations, as well as transform percentage to odds\n",
    "    #not much difference between percentage and odds\n",
    "    \n",
    "    df= df[(np.abs(st.zscore(df['Impr/Voter'])) < 3)]\n",
    "    #get rid of outlier\n",
    "\n",
    "    x = df['Impr/Voter'].to_numpy()\n",
    "    y = df['Percentage'].to_numpy()\n",
    "    if(x.size<2 or y.size<2):\n",
    "        print(\"ONLY ONE DATA POINT.\")\n",
    "    else:\n",
    "        pr = st.pearsonr(x, y)\n",
    "        print(f'Pearsonr correlation for x,y = {pr[0]:5.3f}')\n",
    "        sns.regplot(x = \"Impr/Voter\", y = \"Odds\", data = df, ax = value[1])\n",
    "        \n",
    "    #calculate correlation and plot\n",
    "    print('\\n')\n",
    "\n",
    "    "
   ]
  },
  {
   "cell_type": "code",
   "execution_count": 44,
   "id": "eecc7bc4-f322-4328-b4d7-02412378ed68",
   "metadata": {},
   "outputs": [],
   "source": [
    "plt.show()"
   ]
  },
  {
   "cell_type": "markdown",
   "id": "9f91aa36-99fc-4db1-b68a-f07b2f513de3",
   "metadata": {},
   "source": [
    "Here, we can see that there is some correlation between how each source influences the odds, of winning, with organic boasting the highest score at 0.451. This does make sense, since someone who researches about a candidate organically would be more likely to vote for someone who has no interest and is forced to ingest campaign materials.\n",
    "\n",
    "There is also an outlier in all 3 graphs, so we will do some investigation on where that outlier is."
   ]
  },
  {
   "cell_type": "code",
   "execution_count": 56,
   "id": "4739d2e4-c532-47e3-9626-f2b6841f11c2",
   "metadata": {},
   "outputs": [
    {
     "data": {
      "text/html": [
       "<div>\n",
       "<style scoped>\n",
       "    .dataframe tbody tr th:only-of-type {\n",
       "        vertical-align: middle;\n",
       "    }\n",
       "\n",
       "    .dataframe tbody tr th {\n",
       "        vertical-align: top;\n",
       "    }\n",
       "\n",
       "    .dataframe thead th {\n",
       "        text-align: right;\n",
       "    }\n",
       "</style>\n",
       "<table border=\"1\" class=\"dataframe\">\n",
       "  <thead>\n",
       "    <tr style=\"text-align: right;\">\n",
       "      <th></th>\n",
       "      <th>City</th>\n",
       "      <th>Users</th>\n",
       "      <th>New Users</th>\n",
       "      <th>Sessions</th>\n",
       "      <th>Pages / Session</th>\n",
       "      <th>Avg. Session Duration</th>\n",
       "      <th>Donations (Goal 1 Completions)</th>\n",
       "      <th>Donations (Goal 1 Value)</th>\n",
       "      <th>BENJAMIN THOMAS SOLOMON</th>\n",
       "      <th>JOHN KARL FREDRICH</th>\n",
       "      <th>...</th>\n",
       "      <th>AJWANG RADING</th>\n",
       "      <th>RISHI KUMAR</th>\n",
       "      <th>ANNA G. ESHOO</th>\n",
       "      <th>PETER OHTAKI</th>\n",
       "      <th>GREG LIN TANAKA</th>\n",
       "      <th>Unnamed: 9</th>\n",
       "      <th>Total</th>\n",
       "      <th>Percentage</th>\n",
       "      <th>Odds</th>\n",
       "      <th>Impr/Voter</th>\n",
       "    </tr>\n",
       "  </thead>\n",
       "  <tbody>\n",
       "    <tr>\n",
       "      <th>10</th>\n",
       "      <td>Stanford</td>\n",
       "      <td>136</td>\n",
       "      <td>127</td>\n",
       "      <td>146</td>\n",
       "      <td>3.68</td>\n",
       "      <td>127.75</td>\n",
       "      <td>16</td>\n",
       "      <td>0.0</td>\n",
       "      <td>3</td>\n",
       "      <td>1</td>\n",
       "      <td>...</td>\n",
       "      <td>5</td>\n",
       "      <td>16</td>\n",
       "      <td>60</td>\n",
       "      <td>16</td>\n",
       "      <td>5</td>\n",
       "      <td>NaN</td>\n",
       "      <td>112</td>\n",
       "      <td>0.044643</td>\n",
       "      <td>0.046729</td>\n",
       "      <td>1.214286</td>\n",
       "    </tr>\n",
       "  </tbody>\n",
       "</table>\n",
       "<p>1 rows × 21 columns</p>\n",
       "</div>"
      ],
      "text/plain": [
       "        City  Users  New Users  Sessions  Pages / Session  \\\n",
       "10  Stanford    136        127       146             3.68   \n",
       "\n",
       "    Avg. Session Duration  Donations (Goal 1 Completions)  \\\n",
       "10                 127.75                              16   \n",
       "\n",
       "    Donations (Goal 1 Value)  BENJAMIN THOMAS SOLOMON  JOHN KARL FREDRICH  \\\n",
       "10                       0.0                        3                   1   \n",
       "\n",
       "    ...  AJWANG RADING  RISHI KUMAR  ANNA G. ESHOO  PETER OHTAKI  \\\n",
       "10  ...              5           16             60            16   \n",
       "\n",
       "    GREG LIN TANAKA  Unnamed: 9  Total  Percentage      Odds  Impr/Voter  \n",
       "10                5         NaN    112    0.044643  0.046729    1.214286  \n",
       "\n",
       "[1 rows x 21 columns]"
      ]
     },
     "execution_count": 56,
     "metadata": {},
     "output_type": "execute_result"
    }
   ],
   "source": [
    "df = dfs['organic'][0]\n",
    "df = df.groupby(\"City\").sum()\n",
    "df = pd.merge(left = df, right = votedf, on = ['City'])\n",
    "def odds(row):\n",
    "    return row['Percentage']/(1-row['Percentage'])\n",
    "def ratio(row):\n",
    "    return row['Users']/row['Total']\n",
    "df['Odds'] = df.apply(lambda row: odds(row), axis=1)\n",
    "df['Impr/Voter'] = df.apply(lambda row: ratio(row), axis=1)\n",
    "df= df[(np.abs(st.zscore(df['Impr/Voter'])) >= 3)]\n",
    "df.head()"
   ]
  },
  {
   "cell_type": "markdown",
   "id": "93152093-6ae8-428c-b7c5-ab11793ddeb7",
   "metadata": {},
   "source": [
    "found it, it's stanford. probably because of weird precinct data + population data + voter registration data; tis been a common problem."
   ]
  }
 ],
 "metadata": {
  "kernelspec": {
   "display_name": "Python 3 (ipykernel)",
   "language": "python",
   "name": "python3"
  },
  "language_info": {
   "codemirror_mode": {
    "name": "ipython",
    "version": 3
   },
   "file_extension": ".py",
   "mimetype": "text/x-python",
   "name": "python",
   "nbconvert_exporter": "python",
   "pygments_lexer": "ipython3",
   "version": "3.9.5"
  }
 },
 "nbformat": 4,
 "nbformat_minor": 5
}
