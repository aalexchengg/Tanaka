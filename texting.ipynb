{
 "cells": [
  {
   "cell_type": "markdown",
   "id": "29bed0ff-b916-45c2-9c3b-dbc00ea8a32b",
   "metadata": {},
   "source": [
    "just read this long message and browse through the rest.\n",
    "\n",
    "if/when you get the twograins data, you'll see that there really is no time plot, but rather just single individual points that are centered around when the messages are sent.\n",
    "\n",
    "you are not missing data; 90% of sms messages are opened within the 3 messages, and if they aren't opened within a day, one is probably being ghosted. \n",
    "All the data should be found within the Google Drive; you will **not** need to access the app. \n",
    "It may seem like you are missing messages, but what happens is that TwoGrains splits long messages into multiple sms messages, so the amount of texts sent will always be a multiple of the amount of lines of data you have.\n",
    "\n",
    "Furthermore, there will be data where clicked=False, but there is still a timestamp for clicktime. Ignore it; it was never clicked.\n",
    "\n",
    "I recommend you use the scripts in cleaning scripts to peruse through the data, and from there you can figure out what you want to do with it. "
   ]
  },
  {
   "cell_type": "code",
   "execution_count": 5,
   "id": "0a811301-8b86-4e1d-9d2c-8fe9842d8ec3",
   "metadata": {},
   "outputs": [],
   "source": [
    "import os\n",
    "import pandas as pd\n",
    "import matplotlib.pyplot as plt\n",
    "import seaborn as sns"
   ]
  },
  {
   "cell_type": "code",
   "execution_count": 12,
   "id": "893385de-56a9-4b4f-aa28-9fe0e60bf276",
   "metadata": {},
   "outputs": [
    {
     "data": {
      "text/plain": [
       "Index(['Unnamed: 0', 'sendtime', 'clicktime'], dtype='object')"
      ]
     },
     "execution_count": 12,
     "metadata": {},
     "output_type": "execute_result"
    }
   ],
   "source": [
    "df = pd.read_csv('data/text_result.csv')\n",
    "df.columns"
   ]
  },
  {
   "cell_type": "code",
   "execution_count": 14,
   "id": "294f3396-5cdb-4fce-9b84-dd4f7481f1e9",
   "metadata": {},
   "outputs": [],
   "source": [
    "freq = df['clicktime'].value_counts()"
   ]
  },
  {
   "cell_type": "code",
   "execution_count": 15,
   "id": "7b4f63c0-c821-4e7d-a380-f15ee28b57df",
   "metadata": {},
   "outputs": [
    {
     "data": {
      "text/plain": [
       "2022-06-04    15638\n",
       "2022-06-05       16\n",
       "2021-12-13       14\n",
       "2021-11-25        5\n",
       "2022-06-06        4\n",
       "2022-06-07        4\n",
       "2022-06-10        1\n",
       "2022-03-09        1\n",
       "2022-02-01        1\n",
       "2022-05-27        1\n",
       "2022-03-08        1\n",
       "2022-03-30        1\n",
       "2022-06-09        1\n",
       "2022-06-12        1\n",
       "Name: clicktime, dtype: int64"
      ]
     },
     "execution_count": 15,
     "metadata": {},
     "output_type": "execute_result"
    }
   ],
   "source": [
    "freq"
   ]
  },
  {
   "cell_type": "code",
   "execution_count": null,
   "id": "772e633b-db1b-401b-9ff1-3e4d5af67031",
   "metadata": {},
   "outputs": [],
   "source": []
  }
 ],
 "metadata": {
  "kernelspec": {
   "display_name": "Python 3 (ipykernel)",
   "language": "python",
   "name": "python3"
  },
  "language_info": {
   "codemirror_mode": {
    "name": "ipython",
    "version": 3
   },
   "file_extension": ".py",
   "mimetype": "text/x-python",
   "name": "python",
   "nbconvert_exporter": "python",
   "pygments_lexer": "ipython3",
   "version": "3.9.5"
  }
 },
 "nbformat": 4,
 "nbformat_minor": 5
}
